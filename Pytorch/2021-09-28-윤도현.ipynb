{
 "cells": [
  {
   "cell_type": "markdown",
   "id": "66ee77d6-6f48-417f-8641-13520160784b",
   "metadata": {
    "tags": []
   },
   "source": [
    "# (3주차) 9월28일\n",
    "> 파이토치를 이용하여 회귀모형 학습하기 (2) \n",
    "\n",
    "- toc:true\n",
    "- branch: master\n",
    "- badges: true\n",
    "- comments: true\n",
    "- author: 윤도현"
   ]
  },
  {
   "cell_type": "markdown",
   "id": "a3bd8dca-3b17-47d1-9d34-40d3ca89c17b",
   "metadata": {},
   "source": [
    "### Import "
   ]
  },
  {
   "cell_type": "code",
   "execution_count": 2,
   "id": "b5da4a0c-93b7-41c8-aa36-49f8e62df9ea",
   "metadata": {},
   "outputs": [],
   "source": [
    "import torch \n",
    "import numpy as np "
   ]
  },
  {
   "cell_type": "markdown",
   "id": "840ba289-b5b4-414c-9faa-dc845b317f96",
   "metadata": {},
   "source": [
    "### Data"
   ]
  },
  {
   "cell_type": "markdown",
   "id": "15f0909c-4dde-43b5-9a5c-d86d45398612",
   "metadata": {},
   "source": [
    "`-` model: $y_i= w_0+w_1 x_i +\\epsilon_i = 2.5 + 4x_i +\\epsilon_i, \\quad i=1,2,\\dots,n$ "
   ]
  },
  {
   "cell_type": "markdown",
   "id": "45944f02-ac5e-4d5c-bfae-9e4a9533d54b",
   "metadata": {},
   "source": [
    "`-` model: ${\\bf y}={\\bf X}{\\bf W} +\\boldsymbol{\\epsilon}$"
   ]
  },
  {
   "cell_type": "markdown",
   "id": "fde38ecb-fd61-4cf2-9fd5-25f57b79342c",
   "metadata": {},
   "source": [
    "- ${\\bf y}=\\begin{bmatrix} y_1 \\\\ y_2 \\\\ \\dots \\\\ y_n\\end{bmatrix}, \\quad {\\bf X}=\\begin{bmatrix} 1 & x_1 \\\\ 1 & x_2 \\\\ \\dots \\\\ 1 & x_n\\end{bmatrix}, \\quad {\\bf W}=\\begin{bmatrix} 2.5 \\\\ 4 \\end{bmatrix}, \\quad \\boldsymbol{\\epsilon}= \\begin{bmatrix} \\epsilon_1 \\\\ \\dots \\\\ \\epsilon_n\\end{bmatrix}$"
   ]
  },
  {
   "cell_type": "code",
   "execution_count": 13,
   "id": "9db61add-ae45-45a3-b191-b0d08d90144d",
   "metadata": {},
   "outputs": [
    {
     "data": {
      "text/plain": [
       "tensor([[ 1.0000, -2.4821],\n",
       "        [ 1.0000, -2.3621],\n",
       "        [ 1.0000, -1.9973],\n",
       "        [ 1.0000, -1.6239],\n",
       "        [ 1.0000, -1.4792],\n",
       "        [ 1.0000, -1.4635],\n",
       "        [ 1.0000, -1.4509],\n",
       "        [ 1.0000, -1.4435],\n",
       "        [ 1.0000, -1.3722],\n",
       "        [ 1.0000, -1.3079],\n",
       "        [ 1.0000, -1.1904],\n",
       "        [ 1.0000, -1.1092],\n",
       "        [ 1.0000, -1.1054],\n",
       "        [ 1.0000, -1.0875],\n",
       "        [ 1.0000, -0.9469],\n",
       "        [ 1.0000, -0.9319],\n",
       "        [ 1.0000, -0.8643],\n",
       "        [ 1.0000, -0.7858],\n",
       "        [ 1.0000, -0.7549],\n",
       "        [ 1.0000, -0.7421],\n",
       "        [ 1.0000, -0.6948],\n",
       "        [ 1.0000, -0.6103],\n",
       "        [ 1.0000, -0.5830],\n",
       "        [ 1.0000, -0.5621],\n",
       "        [ 1.0000, -0.5506],\n",
       "        [ 1.0000, -0.5058],\n",
       "        [ 1.0000, -0.4806],\n",
       "        [ 1.0000, -0.4738],\n",
       "        [ 1.0000, -0.4710],\n",
       "        [ 1.0000, -0.4676],\n",
       "        [ 1.0000, -0.3874],\n",
       "        [ 1.0000, -0.3719],\n",
       "        [ 1.0000, -0.3688],\n",
       "        [ 1.0000, -0.3159],\n",
       "        [ 1.0000, -0.2775],\n",
       "        [ 1.0000, -0.2772],\n",
       "        [ 1.0000, -0.2734],\n",
       "        [ 1.0000, -0.2721],\n",
       "        [ 1.0000, -0.2668],\n",
       "        [ 1.0000, -0.2155],\n",
       "        [ 1.0000, -0.2000],\n",
       "        [ 1.0000, -0.1816],\n",
       "        [ 1.0000, -0.1708],\n",
       "        [ 1.0000, -0.1565],\n",
       "        [ 1.0000, -0.1448],\n",
       "        [ 1.0000, -0.1361],\n",
       "        [ 1.0000, -0.1057],\n",
       "        [ 1.0000, -0.0603],\n",
       "        [ 1.0000, -0.0559],\n",
       "        [ 1.0000, -0.0214],\n",
       "        [ 1.0000,  0.0655],\n",
       "        [ 1.0000,  0.0684],\n",
       "        [ 1.0000,  0.1195],\n",
       "        [ 1.0000,  0.1420],\n",
       "        [ 1.0000,  0.1521],\n",
       "        [ 1.0000,  0.1568],\n",
       "        [ 1.0000,  0.2646],\n",
       "        [ 1.0000,  0.2656],\n",
       "        [ 1.0000,  0.3157],\n",
       "        [ 1.0000,  0.3220],\n",
       "        [ 1.0000,  0.3461],\n",
       "        [ 1.0000,  0.3984],\n",
       "        [ 1.0000,  0.4190],\n",
       "        [ 1.0000,  0.5443],\n",
       "        [ 1.0000,  0.5579],\n",
       "        [ 1.0000,  0.5913],\n",
       "        [ 1.0000,  0.6148],\n",
       "        [ 1.0000,  0.6469],\n",
       "        [ 1.0000,  0.6469],\n",
       "        [ 1.0000,  0.6523],\n",
       "        [ 1.0000,  0.6674],\n",
       "        [ 1.0000,  0.7059],\n",
       "        [ 1.0000,  0.7141],\n",
       "        [ 1.0000,  0.7822],\n",
       "        [ 1.0000,  0.8154],\n",
       "        [ 1.0000,  0.8668],\n",
       "        [ 1.0000,  0.9291],\n",
       "        [ 1.0000,  0.9804],\n",
       "        [ 1.0000,  0.9853],\n",
       "        [ 1.0000,  0.9941],\n",
       "        [ 1.0000,  1.0376],\n",
       "        [ 1.0000,  1.0393],\n",
       "        [ 1.0000,  1.0697],\n",
       "        [ 1.0000,  1.1024],\n",
       "        [ 1.0000,  1.1126],\n",
       "        [ 1.0000,  1.1532],\n",
       "        [ 1.0000,  1.2289],\n",
       "        [ 1.0000,  1.3403],\n",
       "        [ 1.0000,  1.3494],\n",
       "        [ 1.0000,  1.4279],\n",
       "        [ 1.0000,  1.4994],\n",
       "        [ 1.0000,  1.5031],\n",
       "        [ 1.0000,  1.5437],\n",
       "        [ 1.0000,  1.6789],\n",
       "        [ 1.0000,  2.0832],\n",
       "        [ 1.0000,  2.2444],\n",
       "        [ 1.0000,  2.3935],\n",
       "        [ 1.0000,  2.6056],\n",
       "        [ 1.0000,  2.6057],\n",
       "        [ 1.0000,  2.6632]])"
      ]
     },
     "execution_count": 13,
     "metadata": {},
     "output_type": "execute_result"
    }
   ],
   "source": [
    "torch.manual_seed(43052)\n",
    "n=100\n",
    "ones= torch.ones(n)\n",
    "x,_ = torch.randn(n).sort()\n",
    "X = torch.vstack([ones,x]).T\n",
    "W = torch.tensor([2.5,4])\n",
    "ϵ = torch.randn(n)*0.5\n",
    "y = X@W + ϵ\n",
    "ytrue = X@W\n",
    "X"
   ]
  },
  {
   "cell_type": "markdown",
   "id": "5407e158-506b-4f25-aefd-983bbd7e923f",
   "metadata": {},
   "source": [
    "### 이전방법요약 "
   ]
  },
  {
   "cell_type": "markdown",
   "id": "6019294b-3565-4405-9d99-4745b7f9ac66",
   "metadata": {},
   "source": [
    "`-` step1: yhat \n",
    "\n",
    "`-` step2: loss \n",
    "\n",
    "`-` step3: derivation \n",
    "\n",
    "`-` step4: update "
   ]
  },
  {
   "cell_type": "markdown",
   "id": "9f61f9bf-e6fd-478a-9bbb-cfae4f24a6ac",
   "metadata": {},
   "source": [
    "### step1: yhat"
   ]
  },
  {
   "cell_type": "markdown",
   "id": "0d04d243-7ed2-41bc-86ae-80c75c2055d5",
   "metadata": {},
   "source": [
    "`-` feedforward 신경망을 설계하는 과정\n",
    "\n",
    "`-` 이 단계가 잘 완료되었다면, 임의의 ${\\bf\\hat{W}}$을 넣었을 때 $\\bf\\hat{y}$를 계산할 수 있어야 함 "
   ]
  },
  {
   "cell_type": "markdown",
   "id": "17f9f2d2-7e8b-4553-87ab-334130712f4a",
   "metadata": {},
   "source": [
    "#### 방법1: 직접선언 (내가 공식을 알고 있어야 한다)"
   ]
  },
  {
   "cell_type": "code",
   "execution_count": 45,
   "id": "41fcb16b-527b-4def-863e-cec8be01c822",
   "metadata": {},
   "outputs": [],
   "source": [
    "What=torch.tensor([-5.0,10.0],requires_grad=True)"
   ]
  },
  {
   "cell_type": "code",
   "execution_count": 46,
   "id": "5f65c81a-71f5-4c97-8171-7d8bb71f87cc",
   "metadata": {},
   "outputs": [],
   "source": [
    "yhat1=X@What"
   ]
  },
  {
   "cell_type": "code",
   "execution_count": 47,
   "id": "216cd4b8-c78b-4ee1-8ed5-6e50301c3c12",
   "metadata": {},
   "outputs": [
    {
     "data": {
      "text/plain": [
       "tensor([-29.8211, -28.6215, -24.9730, -21.2394, -19.7919, -19.6354, -19.5093,\n",
       "        -19.4352, -18.7223, -18.0793, -16.9040, -16.0918, -16.0536, -15.8746,\n",
       "        -14.4690, -14.3193, -13.6426, -12.8578, -12.5486, -12.4213, -11.9484,\n",
       "        -11.1034, -10.8296, -10.6210, -10.5064, -10.0578,  -9.8063,  -9.7380,\n",
       "         -9.7097,  -9.6756,  -8.8736,  -8.7195,  -8.6880,  -8.1592,  -7.7752,\n",
       "         -7.7716,  -7.7339,  -7.7208,  -7.6677,  -7.1551,  -7.0004,  -6.8163,\n",
       "         -6.7081,  -6.5655,  -6.4480,  -6.3612,  -6.0566,  -5.6031,  -5.5589,\n",
       "         -5.2137,  -4.3446,  -4.3165,  -3.8047,  -3.5801,  -3.4793,  -3.4325,\n",
       "         -2.3545,  -2.3440,  -1.8434,  -1.7799,  -1.5386,  -1.0161,  -0.8103,\n",
       "          0.4426,   0.5794,   0.9125,   1.1483,   1.4687,   1.4690,   1.5234,\n",
       "          1.6738,   2.0592,   2.1414,   2.8221,   3.1536,   3.6682,   4.2907,\n",
       "          4.8037,   4.8531,   4.9414,   5.3757,   5.3926,   5.6973,   6.0239,\n",
       "          6.1261,   6.5317,   7.2891,   8.4032,   8.4936,   9.2794,   9.9943,\n",
       "         10.0310,  10.4369,  11.7886,  15.8323,  17.4440,  18.9350,  21.0560,\n",
       "         21.0566,  21.6324], grad_fn=<MvBackward>)"
      ]
     },
     "execution_count": 47,
     "metadata": {},
     "output_type": "execute_result"
    }
   ],
   "source": [
    "yhat1"
   ]
  },
  {
   "cell_type": "markdown",
   "id": "533b9265-f530-4e00-bb0e-2be6ee209681",
   "metadata": {},
   "source": [
    "#### 방법2: torch.nn.Linear() 사용"
   ]
  },
  {
   "cell_type": "code",
   "execution_count": 48,
   "id": "cf9d8c37-d670-4006-923d-f8246e754dd8",
   "metadata": {},
   "outputs": [],
   "source": [
    "net = torch.nn.Linear(in_features=2 ,out_features=1, bias=False) "
   ]
  },
  {
   "cell_type": "code",
   "execution_count": 49,
   "id": "4d9fa627-e6ff-46a2-b02e-23e962eca9df",
   "metadata": {},
   "outputs": [
    {
     "data": {
      "text/plain": [
       "tensor([[ 0.4210, -0.3843]])"
      ]
     },
     "execution_count": 49,
     "metadata": {},
     "output_type": "execute_result"
    }
   ],
   "source": [
    "net.weight.data"
   ]
  },
  {
   "cell_type": "code",
   "execution_count": 50,
   "id": "e7fff015-5fbd-419c-a96f-1433b12ec86c",
   "metadata": {},
   "outputs": [],
   "source": [
    "net.weight.data=torch.tensor([[-5.0,10.0]])"
   ]
  },
  {
   "cell_type": "code",
   "execution_count": 51,
   "id": "586e540b-0f86-4d52-a7a9-debb86ff5bd1",
   "metadata": {},
   "outputs": [
    {
     "data": {
      "text/plain": [
       "tensor([[-5., 10.]])"
      ]
     },
     "execution_count": 51,
     "metadata": {},
     "output_type": "execute_result"
    }
   ],
   "source": [
    "net.weight.data"
   ]
  },
  {
   "cell_type": "code",
   "execution_count": 52,
   "id": "e98c0035-39f7-40d3-ac37-0f74d546a632",
   "metadata": {},
   "outputs": [
    {
     "data": {
      "text/plain": [
       "tensor([[-29.8211],\n",
       "        [-28.6215],\n",
       "        [-24.9730],\n",
       "        [-21.2394],\n",
       "        [-19.7919],\n",
       "        [-19.6354],\n",
       "        [-19.5093],\n",
       "        [-19.4352],\n",
       "        [-18.7223],\n",
       "        [-18.0793],\n",
       "        [-16.9040],\n",
       "        [-16.0918],\n",
       "        [-16.0536],\n",
       "        [-15.8746],\n",
       "        [-14.4690],\n",
       "        [-14.3193],\n",
       "        [-13.6426],\n",
       "        [-12.8578],\n",
       "        [-12.5486],\n",
       "        [-12.4213],\n",
       "        [-11.9484],\n",
       "        [-11.1034],\n",
       "        [-10.8296],\n",
       "        [-10.6210],\n",
       "        [-10.5064],\n",
       "        [-10.0578],\n",
       "        [ -9.8063],\n",
       "        [ -9.7380],\n",
       "        [ -9.7097],\n",
       "        [ -9.6756],\n",
       "        [ -8.8736],\n",
       "        [ -8.7195],\n",
       "        [ -8.6880],\n",
       "        [ -8.1592],\n",
       "        [ -7.7752],\n",
       "        [ -7.7716],\n",
       "        [ -7.7339],\n",
       "        [ -7.7208],\n",
       "        [ -7.6677],\n",
       "        [ -7.1551],\n",
       "        [ -7.0004],\n",
       "        [ -6.8163],\n",
       "        [ -6.7081],\n",
       "        [ -6.5655],\n",
       "        [ -6.4480],\n",
       "        [ -6.3612],\n",
       "        [ -6.0566],\n",
       "        [ -5.6031],\n",
       "        [ -5.5589],\n",
       "        [ -5.2137],\n",
       "        [ -4.3446],\n",
       "        [ -4.3165],\n",
       "        [ -3.8047],\n",
       "        [ -3.5801],\n",
       "        [ -3.4793],\n",
       "        [ -3.4325],\n",
       "        [ -2.3545],\n",
       "        [ -2.3440],\n",
       "        [ -1.8434],\n",
       "        [ -1.7799],\n",
       "        [ -1.5386],\n",
       "        [ -1.0161],\n",
       "        [ -0.8103],\n",
       "        [  0.4426],\n",
       "        [  0.5794],\n",
       "        [  0.9125],\n",
       "        [  1.1483],\n",
       "        [  1.4687],\n",
       "        [  1.4690],\n",
       "        [  1.5234],\n",
       "        [  1.6738],\n",
       "        [  2.0592],\n",
       "        [  2.1414],\n",
       "        [  2.8221],\n",
       "        [  3.1536],\n",
       "        [  3.6682],\n",
       "        [  4.2907],\n",
       "        [  4.8037],\n",
       "        [  4.8531],\n",
       "        [  4.9414],\n",
       "        [  5.3757],\n",
       "        [  5.3926],\n",
       "        [  5.6973],\n",
       "        [  6.0239],\n",
       "        [  6.1261],\n",
       "        [  6.5317],\n",
       "        [  7.2891],\n",
       "        [  8.4032],\n",
       "        [  8.4936],\n",
       "        [  9.2794],\n",
       "        [  9.9943],\n",
       "        [ 10.0310],\n",
       "        [ 10.4369],\n",
       "        [ 11.7886],\n",
       "        [ 15.8323],\n",
       "        [ 17.4440],\n",
       "        [ 18.9350],\n",
       "        [ 21.0560],\n",
       "        [ 21.0566],\n",
       "        [ 21.6324]], grad_fn=<MmBackward>)"
      ]
     },
     "execution_count": 52,
     "metadata": {},
     "output_type": "execute_result"
    }
   ],
   "source": [
    "net(X)"
   ]
  },
  {
   "cell_type": "code",
   "execution_count": 53,
   "id": "98acc9c9-02ff-4d1e-bdbd-b3c5f78a723f",
   "metadata": {},
   "outputs": [],
   "source": [
    "yhat2=net(X)"
   ]
  },
  {
   "cell_type": "markdown",
   "id": "ff787f14-7337-4d8e-8441-bb98c5219336",
   "metadata": {},
   "source": [
    "#### 방법3: torch.nn.Linear()사용, bias=True"
   ]
  },
  {
   "cell_type": "code",
   "execution_count": 28,
   "id": "958bb2bf-0046-4650-9b39-1152cb492ef3",
   "metadata": {},
   "outputs": [],
   "source": [
    "net = torch.nn.Linear(in_features=1 ,out_features=1, bias=True) "
   ]
  },
  {
   "cell_type": "code",
   "execution_count": 29,
   "id": "e9db58cc-66ab-4536-ba36-5d0e76ef300c",
   "metadata": {},
   "outputs": [
    {
     "data": {
      "text/plain": [
       "tensor([[-0.1737]])"
      ]
     },
     "execution_count": 29,
     "metadata": {},
     "output_type": "execute_result"
    }
   ],
   "source": [
    "net.weight.data"
   ]
  },
  {
   "cell_type": "code",
   "execution_count": 30,
   "id": "b66db432-befc-4cbf-aad8-01ab13c24429",
   "metadata": {},
   "outputs": [],
   "source": [
    "net.weight.data=torch.tensor([[10.0]])"
   ]
  },
  {
   "cell_type": "code",
   "execution_count": 33,
   "id": "862fa992-71a2-4426-a70e-7d2b22ff1a4f",
   "metadata": {},
   "outputs": [],
   "source": [
    "net.bias.data=torch.tensor([-5.0])"
   ]
  },
  {
   "cell_type": "code",
   "execution_count": 34,
   "id": "d6e176d4-6348-4b7b-be39-d469e6b60889",
   "metadata": {},
   "outputs": [
    {
     "data": {
      "text/plain": [
       "(Parameter containing:\n",
       " tensor([[10.]], requires_grad=True),\n",
       " Parameter containing:\n",
       " tensor([-5.], requires_grad=True))"
      ]
     },
     "execution_count": 34,
     "metadata": {},
     "output_type": "execute_result"
    }
   ],
   "source": [
    "net.weight,net.bias"
   ]
  },
  {
   "cell_type": "code",
   "execution_count": 44,
   "id": "4c9a501d-74a5-47a6-a619-8fb5a773ea8c",
   "metadata": {},
   "outputs": [
    {
     "data": {
      "text/plain": [
       "tensor([[-29.8211],\n",
       "        [-28.6215],\n",
       "        [-24.9730],\n",
       "        [-21.2394],\n",
       "        [-19.7919],\n",
       "        [-19.6354],\n",
       "        [-19.5093],\n",
       "        [-19.4352],\n",
       "        [-18.7223],\n",
       "        [-18.0793],\n",
       "        [-16.9040],\n",
       "        [-16.0918],\n",
       "        [-16.0536],\n",
       "        [-15.8746],\n",
       "        [-14.4690],\n",
       "        [-14.3193],\n",
       "        [-13.6426],\n",
       "        [-12.8578],\n",
       "        [-12.5486],\n",
       "        [-12.4213],\n",
       "        [-11.9484],\n",
       "        [-11.1034],\n",
       "        [-10.8296],\n",
       "        [-10.6210],\n",
       "        [-10.5064],\n",
       "        [-10.0578],\n",
       "        [ -9.8063],\n",
       "        [ -9.7380],\n",
       "        [ -9.7097],\n",
       "        [ -9.6756],\n",
       "        [ -8.8736],\n",
       "        [ -8.7195],\n",
       "        [ -8.6880],\n",
       "        [ -8.1592],\n",
       "        [ -7.7752],\n",
       "        [ -7.7716],\n",
       "        [ -7.7339],\n",
       "        [ -7.7208],\n",
       "        [ -7.6677],\n",
       "        [ -7.1551],\n",
       "        [ -7.0004],\n",
       "        [ -6.8163],\n",
       "        [ -6.7081],\n",
       "        [ -6.5655],\n",
       "        [ -6.4480],\n",
       "        [ -6.3612],\n",
       "        [ -6.0566],\n",
       "        [ -5.6031],\n",
       "        [ -5.5589],\n",
       "        [ -5.2137],\n",
       "        [ -4.3446],\n",
       "        [ -4.3165],\n",
       "        [ -3.8047],\n",
       "        [ -3.5801],\n",
       "        [ -3.4793],\n",
       "        [ -3.4325],\n",
       "        [ -2.3545],\n",
       "        [ -2.3440],\n",
       "        [ -1.8434],\n",
       "        [ -1.7799],\n",
       "        [ -1.5386],\n",
       "        [ -1.0161],\n",
       "        [ -0.8103],\n",
       "        [  0.4426],\n",
       "        [  0.5794],\n",
       "        [  0.9125],\n",
       "        [  1.1483],\n",
       "        [  1.4687],\n",
       "        [  1.4690],\n",
       "        [  1.5234],\n",
       "        [  1.6738],\n",
       "        [  2.0592],\n",
       "        [  2.1414],\n",
       "        [  2.8221],\n",
       "        [  3.1536],\n",
       "        [  3.6682],\n",
       "        [  4.2907],\n",
       "        [  4.8037],\n",
       "        [  4.8531],\n",
       "        [  4.9414],\n",
       "        [  5.3757],\n",
       "        [  5.3926],\n",
       "        [  5.6973],\n",
       "        [  6.0239],\n",
       "        [  6.1261],\n",
       "        [  6.5317],\n",
       "        [  7.2891],\n",
       "        [  8.4032],\n",
       "        [  8.4936],\n",
       "        [  9.2794],\n",
       "        [  9.9943],\n",
       "        [ 10.0310],\n",
       "        [ 10.4369],\n",
       "        [ 11.7886],\n",
       "        [ 15.8323],\n",
       "        [ 17.4440],\n",
       "        [ 18.9350],\n",
       "        [ 21.0560],\n",
       "        [ 21.0566],\n",
       "        [ 21.6324]], grad_fn=<AddmmBackward>)"
      ]
     },
     "execution_count": 44,
     "metadata": {},
     "output_type": "execute_result"
    }
   ],
   "source": [
    "net(x.reshape(100,1))"
   ]
  },
  {
   "cell_type": "markdown",
   "id": "6201514f-ca60-4727-bd60-879a5ae1a0d1",
   "metadata": {},
   "source": [
    "#### "
   ]
  },
  {
   "cell_type": "markdown",
   "id": "076a430b-167e-4e13-8ff0-d61d435832a1",
   "metadata": {},
   "source": [
    "### step2: loss"
   ]
  },
  {
   "cell_type": "markdown",
   "id": "c4f7a66c-f798-411c-aa66-2f859e83fd6c",
   "metadata": {},
   "source": [
    "#### 방법1: 손실함수를 직접정의하는 방법"
   ]
  },
  {
   "cell_type": "code",
   "execution_count": 58,
   "id": "f5e34f5e-563f-4057-8501-2d3d2b528771",
   "metadata": {},
   "outputs": [
    {
     "data": {
      "text/plain": [
       "tensor(85.8769, grad_fn=<MeanBackward0>)"
      ]
     },
     "execution_count": 58,
     "metadata": {},
     "output_type": "execute_result"
    }
   ],
   "source": [
    "loss=torch.mean((y-yhat1)**2)\n",
    "loss"
   ]
  },
  {
   "cell_type": "code",
   "execution_count": 59,
   "id": "667cd251-9d17-44c5-89ad-19c0fcb3388b",
   "metadata": {},
   "outputs": [
    {
     "data": {
      "text/plain": [
       "tensor(176.2661, grad_fn=<MeanBackward0>)"
      ]
     },
     "execution_count": 59,
     "metadata": {},
     "output_type": "execute_result"
    }
   ],
   "source": [
    "loss=torch.mean((y-yhat2)**2)\n",
    "loss"
   ]
  },
  {
   "cell_type": "markdown",
   "id": "95478ba0-1ed1-474d-b00a-77a1508b7d53",
   "metadata": {},
   "source": [
    "- 176.2661? 이건 잘못된 결과임"
   ]
  },
  {
   "cell_type": "code",
   "execution_count": 70,
   "id": "1aac19d9-72b7-42f3-97fa-4b07d673c8ec",
   "metadata": {},
   "outputs": [
    {
     "data": {
      "text/plain": [
       "tensor(85.8769, grad_fn=<MeanBackward0>)"
      ]
     },
     "execution_count": 70,
     "metadata": {},
     "output_type": "execute_result"
    }
   ],
   "source": [
    "loss=torch.mean((y.reshape(100,1)-yhat2)**2)\n",
    "loss"
   ]
  },
  {
   "cell_type": "markdown",
   "id": "44a14ef3-9a40-4367-88af-b7bf8b7af3fd",
   "metadata": {},
   "source": [
    "#### 방법2: torch.nn.MSELoss()를 사용하여 손실함수를 정의하는 방법 "
   ]
  },
  {
   "cell_type": "code",
   "execution_count": 76,
   "id": "86d1a425-0259-4c7a-b689-14a7d643ac5c",
   "metadata": {},
   "outputs": [],
   "source": [
    "lossfn=torch.nn.MSELoss()"
   ]
  },
  {
   "cell_type": "code",
   "execution_count": 82,
   "id": "14bb79e8-befc-4d24-8a50-bc01bf9a5286",
   "metadata": {},
   "outputs": [
    {
     "data": {
      "text/plain": [
       "tensor(85.8769, grad_fn=<MseLossBackward>)"
      ]
     },
     "execution_count": 82,
     "metadata": {},
     "output_type": "execute_result"
    }
   ],
   "source": [
    "loss=lossfn(y,yhat1)\n",
    "loss"
   ]
  },
  {
   "cell_type": "code",
   "execution_count": 83,
   "id": "6483b676-fa3b-44d9-86d7-fa5067ea38f2",
   "metadata": {},
   "outputs": [
    {
     "data": {
      "text/plain": [
       "tensor(85.8769, grad_fn=<MseLossBackward>)"
      ]
     },
     "execution_count": 83,
     "metadata": {},
     "output_type": "execute_result"
    }
   ],
   "source": [
    "loss=lossfn(y.reshape(100,1),yhat2)\n",
    "loss"
   ]
  },
  {
   "cell_type": "markdown",
   "id": "e737f7c5-f6b2-4a2d-922b-38a9452b298a",
   "metadata": {
    "tags": []
   },
   "source": [
    "### [숙제](https://ieilms.jbnu.ac.kr/)"
   ]
  },
  {
   "cell_type": "markdown",
   "id": "8e1b9bd4-ffd6-495c-9fd6-1815db02158d",
   "metadata": {},
   "source": [
    "`-` model: $y_i= w_0+w_1 x_{i1}+w_2 x_{i2} +\\epsilon_i = 2.5 + 4x_{1i} + -2x_{2i}+\\epsilon_i, \\quad i=1,2,\\dots,n$ "
   ]
  },
  {
   "cell_type": "code",
   "execution_count": 8,
   "id": "9dcf8020-b0f2-48c9-98b6-c04aecdaf9a4",
   "metadata": {},
   "outputs": [],
   "source": [
    "torch.manual_seed(43052)\n",
    "n=100\n",
    "ones= torch.ones(n)\n",
    "x1,_ = torch.randn(n).sort()\n",
    "x2,_ = torch.randn(n).sort()\n",
    "X = torch.vstack([ones,x1,x2]).T\n",
    "W = torch.tensor([2.5,4,-2])\n",
    "ϵ = torch.randn(n)*0.5\n",
    "y = X@W + ϵ\n",
    "ytrue = X@W"
   ]
  },
  {
   "cell_type": "markdown",
   "id": "062999c6-1ab2-4690-89fb-fb580548e5e4",
   "metadata": {},
   "source": [
    "`-` torch.nn.Linear() 를 이용하여 $\\bf{\\hat{W}}=\\begin{bmatrix}1 \\\\ 1 \\\\ 1 \\end{bmatrix}$ 에 대한 $\\hat{y}$를 구하라. "
   ]
  },
  {
   "cell_type": "markdown",
   "id": "49513df2-628e-4322-8a90-921184411193",
   "metadata": {},
   "source": [
    "# Step 1~2 요약\n"
   ]
  },
  {
   "cell_type": "markdown",
   "id": "307c01cc-ecc1-42b4-86eb-cbac759c61b2",
   "metadata": {
    "tags": []
   },
   "source": [
    "### 방법1: 모델을 직접선언 + loss함수도 직접선언 ###"
   ]
  },
  {
   "cell_type": "code",
   "execution_count": 35,
   "id": "f9a79d09-65e5-448d-9814-b8cfb57986b8",
   "metadata": {},
   "outputs": [
    {
     "data": {
      "text/plain": [
       "tensor([-2.4821, -2.3621, -1.9973, -1.6239, -1.4792, -1.4635, -1.4509, -1.4435,\n",
       "        -1.3722, -1.3079, -1.1904, -1.1092, -1.1054, -1.0875, -0.9469, -0.9319,\n",
       "        -0.8643, -0.7858, -0.7549, -0.7421, -0.6948, -0.6103, -0.5830, -0.5621,\n",
       "        -0.5506, -0.5058, -0.4806, -0.4738, -0.4710, -0.4676, -0.3874, -0.3719,\n",
       "        -0.3688, -0.3159, -0.2775, -0.2772, -0.2734, -0.2721, -0.2668, -0.2155,\n",
       "        -0.2000, -0.1816, -0.1708, -0.1565, -0.1448, -0.1361, -0.1057, -0.0603,\n",
       "        -0.0559, -0.0214,  0.0655,  0.0684,  0.1195,  0.1420,  0.1521,  0.1568,\n",
       "         0.2646,  0.2656,  0.3157,  0.3220,  0.3461,  0.3984,  0.4190,  0.5443,\n",
       "         0.5579,  0.5913,  0.6148,  0.6469,  0.6469,  0.6523,  0.6674,  0.7059,\n",
       "         0.7141,  0.7822,  0.8154,  0.8668,  0.9291,  0.9804,  0.9853,  0.9941,\n",
       "         1.0376,  1.0393,  1.0697,  1.1024,  1.1126,  1.1532,  1.2289,  1.3403,\n",
       "         1.3494,  1.4279,  1.4994,  1.5031,  1.5437,  1.6789,  2.0832,  2.2444,\n",
       "         2.3935,  2.6056,  2.6057,  2.6632])"
      ]
     },
     "execution_count": 35,
     "metadata": {},
     "output_type": "execute_result"
    }
   ],
   "source": [
    "torch.manual_seed(43052)\n",
    "n=100\n",
    "ones= torch.ones(n)\n",
    "x,_ = torch.randn(n).sort()\n",
    "X = torch.vstack([ones,x]).T\n",
    "W = torch.tensor([2.5,4])\n",
    "ϵ = torch.randn(n)*0.5\n",
    "y = X@W + ϵ\n",
    "ytrue = X@W\n",
    "x"
   ]
  },
  {
   "cell_type": "code",
   "execution_count": 36,
   "id": "63b55b1c-706e-49fc-91b1-42ad3ee5ed35",
   "metadata": {},
   "outputs": [
    {
     "data": {
      "text/plain": [
       "tensor(85.8769, grad_fn=<MeanBackward0>)"
      ]
     },
     "execution_count": 36,
     "metadata": {},
     "output_type": "execute_result"
    }
   ],
   "source": [
    "What1=torch.tensor([-5.0,10.0],requires_grad=True)\n",
    "yhat1=X@What1\n",
    "loss1=torch.mean((y-yhat1)**2)\n",
    "loss1"
   ]
  },
  {
   "cell_type": "markdown",
   "id": "1e7ae368-cbad-47e1-b7c3-74fc65159429",
   "metadata": {},
   "source": [
    "### 방법2 모델식을 torch.nn으로 선언 (bias=False) + loss함수 직접선언"
   ]
  },
  {
   "cell_type": "code",
   "execution_count": 37,
   "id": "e4fb78bd-0b84-4210-9b67-c747d8714557",
   "metadata": {
    "tags": []
   },
   "outputs": [
    {
     "data": {
      "text/plain": [
       "tensor(85.8769, grad_fn=<MeanBackward0>)"
      ]
     },
     "execution_count": 37,
     "metadata": {},
     "output_type": "execute_result"
    }
   ],
   "source": [
    "net2=torch.nn.Linear(in_features=2, out_features=1, bias=False)     ### in_features는 X의 열의 갯수\n",
    "net2.weight.data= torch.tensor([[-5.0,10.0]],requires_grad=True)\n",
    "yhat2=net2(X)\n",
    "loss2=torch.mean((y.reshape(100,1)-yhat2)**2)\n",
    "loss2"
   ]
  },
  {
   "cell_type": "markdown",
   "id": "c5085033-6ac4-4917-b025-6305c18464f5",
   "metadata": {},
   "source": [
    "### 방법 3: 모델식을 torch.nn으로 선언(bias=True)+ loss 직접선언"
   ]
  },
  {
   "cell_type": "code",
   "execution_count": 45,
   "id": "23bf65f2-7a69-4e40-a552-8750f5693b57",
   "metadata": {},
   "outputs": [
    {
     "data": {
      "text/plain": [
       "tensor(85.8769, grad_fn=<MeanBackward0>)"
      ]
     },
     "execution_count": 45,
     "metadata": {},
     "output_type": "execute_result"
    }
   ],
   "source": [
    "net3=torch.nn.Linear(in_features=1, out_features=1, bias=True)     ### in_features는 X의 열의 갯수\n",
    "net3.weight.data= torch.tensor([[10.0]])\n",
    "net3.bias.data = torch.tensor([[-5.0]])\n",
    "yhat3=net3(x.reshape(100,1))\n",
    "loss3 = torch.mean((y.reshape(100,1)-yhat3)**2)\n",
    "loss3"
   ]
  },
  {
   "cell_type": "markdown",
   "id": "3e9d8cfe-ffc6-4a6e-88e3-60ccee4bfe2f",
   "metadata": {},
   "source": [
    "### 방법4: 모델식을 직접 선언 + loss함수는 torch.nn.MSELoss()"
   ]
  },
  {
   "cell_type": "code",
   "execution_count": 39,
   "id": "0826881d-9d46-4ee8-8b1c-a2e9931214f9",
   "metadata": {},
   "outputs": [
    {
     "data": {
      "text/plain": [
       "tensor(85.8769, grad_fn=<MseLossBackward>)"
      ]
     },
     "execution_count": 39,
     "metadata": {},
     "output_type": "execute_result"
    }
   ],
   "source": [
    "What4 = torch.tensor([-5.0,10.0],requires_grad=True)\n",
    "yhat4=X@What4\n",
    "lossfn= torch.nn.MSELoss()\n",
    "loss4=lossfn(y,yhat4)\n",
    "loss4"
   ]
  },
  {
   "cell_type": "markdown",
   "id": "ccce57f0-cc18-4d60-afb9-76b377c8c267",
   "metadata": {},
   "source": [
    "### 방법5: 모델식을 torch.nn으로 선언(bias=False) + loss함수는 torch.nn.MSELoss()"
   ]
  },
  {
   "cell_type": "code",
   "execution_count": 40,
   "id": "82b5582c-7d07-48ee-b637-df02d99626ec",
   "metadata": {},
   "outputs": [
    {
     "data": {
      "text/plain": [
       "tensor(85.8769, grad_fn=<MseLossBackward>)"
      ]
     },
     "execution_count": 40,
     "metadata": {},
     "output_type": "execute_result"
    }
   ],
   "source": [
    "net5= torch.nn.Linear(in_features=2, out_features=1, bias=False)\n",
    "net5.weight.data= torch.tensor([-5.0,10.0],requires_grad=True)\n",
    "yhat5= net5(X)\n",
    "lossfn = torch.nn.MSELoss()\n",
    "loss5 = lossfn(y,yhat5)\n",
    "loss5"
   ]
  },
  {
   "cell_type": "markdown",
   "id": "b36b892b-f1ba-4da6-a1ff-06bb2e97562a",
   "metadata": {},
   "source": [
    "### 방법6: 모델식을 torch.nn으로 선언(bias=True) + loss함수는 torch.nn.MSELoss()"
   ]
  },
  {
   "cell_type": "code",
   "execution_count": 47,
   "id": "d08bab8b-0089-4016-b795-4d0b2ceb9cb1",
   "metadata": {},
   "outputs": [
    {
     "data": {
      "text/plain": [
       "tensor(85.8769, grad_fn=<MseLossBackward>)"
      ]
     },
     "execution_count": 47,
     "metadata": {},
     "output_type": "execute_result"
    }
   ],
   "source": [
    "net6=torch.nn.Linear(in_features=1,out_features=1, bias=True)\n",
    "net6.weight.data=torch.tensor([[10.0]])\n",
    "net6.bias.data = torch.tensor([[-5.0]])\n",
    "yhat6= net6(x.reshape(100,1))\n",
    "lossfn=torch.nn.MSELoss()\n",
    "loss6=lossfn(y.reshape(100,1),yhat6)\n",
    "loss6"
   ]
  },
  {
   "cell_type": "markdown",
   "id": "f88a4ad6-cc03-4079-822d-b8c21b142bd2",
   "metadata": {},
   "source": [
    "# Step 3: derivation >> 미분하는 과정"
   ]
  },
  {
   "cell_type": "markdown",
   "id": "45b81a9f-ee34-4c6a-b4e4-e15835e786c5",
   "metadata": {},
   "source": [
    "#### loss1"
   ]
  },
  {
   "cell_type": "code",
   "execution_count": 48,
   "id": "c583a457-3f7a-49f4-b735-3d1b9f6cdb66",
   "metadata": {},
   "outputs": [],
   "source": [
    "loss1.backward()"
   ]
  },
  {
   "cell_type": "code",
   "execution_count": 54,
   "id": "d483fecc-67eb-415f-ba4f-29d46ffab952",
   "metadata": {},
   "outputs": [
    {
     "data": {
      "text/plain": [
       "tensor([-13.4225,  11.8893])"
      ]
     },
     "execution_count": 54,
     "metadata": {},
     "output_type": "execute_result"
    }
   ],
   "source": [
    "What1.grad.data"
   ]
  },
  {
   "cell_type": "markdown",
   "id": "88e1596b-e2fa-42a6-b474-451d7c5845e1",
   "metadata": {},
   "source": [
    "#### loss2"
   ]
  },
  {
   "cell_type": "code",
   "execution_count": 49,
   "id": "013e6753-de29-4902-be52-dfc767dc5916",
   "metadata": {},
   "outputs": [],
   "source": [
    "loss2.backward()"
   ]
  },
  {
   "cell_type": "code",
   "execution_count": 55,
   "id": "f3699c5b-adcf-49ef-94a9-3be267227c92",
   "metadata": {},
   "outputs": [
    {
     "data": {
      "text/plain": [
       "tensor([[-13.4225,  11.8893]])"
      ]
     },
     "execution_count": 55,
     "metadata": {},
     "output_type": "execute_result"
    }
   ],
   "source": [
    "net2.weight.grad"
   ]
  },
  {
   "cell_type": "markdown",
   "id": "5b360a4c-b975-4c82-a957-48af66978acf",
   "metadata": {},
   "source": [
    "#### loss3"
   ]
  },
  {
   "cell_type": "code",
   "execution_count": 50,
   "id": "18caed50-a685-44fa-be72-3936c125b294",
   "metadata": {},
   "outputs": [],
   "source": [
    "loss3.backward()"
   ]
  },
  {
   "cell_type": "code",
   "execution_count": 58,
   "id": "25ef8388-e9ea-43f9-bbd6-57d56e71b59c",
   "metadata": {},
   "outputs": [
    {
     "data": {
      "text/plain": [
       "(tensor([[-13.4225]]), tensor([[11.8893]]))"
      ]
     },
     "execution_count": 58,
     "metadata": {},
     "output_type": "execute_result"
    }
   ],
   "source": [
    "net3.bias.grad, net3.weight.grad"
   ]
  },
  {
   "cell_type": "markdown",
   "id": "728f52e3-7306-455b-a61d-8d65b92e69f5",
   "metadata": {},
   "source": [
    "#### loss4"
   ]
  },
  {
   "cell_type": "code",
   "execution_count": 51,
   "id": "81045f09-212c-452f-8027-365517602335",
   "metadata": {},
   "outputs": [],
   "source": [
    "loss4.backward()"
   ]
  },
  {
   "cell_type": "code",
   "execution_count": 59,
   "id": "7dd35688-6cee-43c1-937e-082d266d2797",
   "metadata": {},
   "outputs": [
    {
     "data": {
      "text/plain": [
       "tensor([-13.4225,  11.8893])"
      ]
     },
     "execution_count": 59,
     "metadata": {},
     "output_type": "execute_result"
    }
   ],
   "source": [
    "What4.grad.data"
   ]
  },
  {
   "cell_type": "markdown",
   "id": "777a17a3-2d9e-4aca-8942-8b637b2bc5d6",
   "metadata": {},
   "source": [
    "#### loss5"
   ]
  },
  {
   "cell_type": "code",
   "execution_count": 52,
   "id": "ab3e7a7f-23ea-41ee-90a0-42402a8c6453",
   "metadata": {},
   "outputs": [],
   "source": [
    "loss5.backward()"
   ]
  },
  {
   "cell_type": "code",
   "execution_count": 61,
   "id": "a273aec9-de36-48e0-aa49-c5d3b1892ab6",
   "metadata": {},
   "outputs": [
    {
     "data": {
      "text/plain": [
       "tensor([-13.4225,  11.8893])"
      ]
     },
     "execution_count": 61,
     "metadata": {},
     "output_type": "execute_result"
    }
   ],
   "source": [
    "net5.weight.grad"
   ]
  },
  {
   "cell_type": "markdown",
   "id": "a778cebb-0930-4822-904c-a6d172e39b4a",
   "metadata": {},
   "source": [
    "#### loss6"
   ]
  },
  {
   "cell_type": "code",
   "execution_count": 53,
   "id": "b82d7103-e6bd-4400-b6e0-9ad71b9ccf90",
   "metadata": {},
   "outputs": [],
   "source": [
    "loss6.backward()"
   ]
  },
  {
   "cell_type": "code",
   "execution_count": 63,
   "id": "1ee8f311-a80b-4dc5-9fe8-51ef76e446e2",
   "metadata": {},
   "outputs": [
    {
     "data": {
      "text/plain": [
       "(tensor([[-13.4225]]), tensor([[11.8893]]))"
      ]
     },
     "execution_count": 63,
     "metadata": {},
     "output_type": "execute_result"
    }
   ],
   "source": [
    "net6.bias.grad,net6.weight.grad"
   ]
  },
  {
   "cell_type": "markdown",
   "id": "41e23624-1126-4570-b28c-4702360a1259",
   "metadata": {},
   "source": [
    "# Step 4: update"
   ]
  },
  {
   "cell_type": "markdown",
   "id": "2d3eec5e-6011-4049-a55f-bbbaa189aec1",
   "metadata": {},
   "source": [
    "#### loss1"
   ]
  },
  {
   "cell_type": "code",
   "execution_count": 69,
   "id": "a31cb033-9a3f-427b-9a61-f358893b82c3",
   "metadata": {},
   "outputs": [
    {
     "data": {
      "text/plain": [
       "tensor([-2.3155,  7.6221])"
      ]
     },
     "execution_count": 69,
     "metadata": {},
     "output_type": "execute_result"
    }
   ],
   "source": [
    "What1.data ## update 전"
   ]
  },
  {
   "cell_type": "code",
   "execution_count": 70,
   "id": "9f64f08e-d70f-41f3-9147-aa6ad08a6587",
   "metadata": {},
   "outputs": [
    {
     "data": {
      "text/plain": [
       "tensor([-0.9732,  6.4332], requires_grad=True)"
      ]
     },
     "execution_count": 70,
     "metadata": {},
     "output_type": "execute_result"
    }
   ],
   "source": [
    "lr=0.1\n",
    "What1.data = What1.data- lr*What1.grad.data ## update 후 \n",
    "What1"
   ]
  },
  {
   "cell_type": "markdown",
   "id": "5a9149bf-ab87-4a7f-ad92-cd1a681e5b03",
   "metadata": {
    "tags": []
   },
   "source": [
    "#### loss2"
   ]
  },
  {
   "cell_type": "code",
   "execution_count": 71,
   "id": "8c618a3c-1612-41a3-9a31-9d151450fd95",
   "metadata": {},
   "outputs": [
    {
     "data": {
      "text/plain": [
       "tensor([[-5., 10.]])"
      ]
     },
     "execution_count": 71,
     "metadata": {},
     "output_type": "execute_result"
    }
   ],
   "source": [
    "net2.weight.data"
   ]
  },
  {
   "cell_type": "code",
   "execution_count": 72,
   "id": "5ebc616f-4a45-4b82-98b8-303f4881d2e3",
   "metadata": {},
   "outputs": [],
   "source": [
    "optmz2 = torch.optim.SGD(net2.parameters(),lr=0.1)"
   ]
  },
  {
   "cell_type": "code",
   "execution_count": 73,
   "id": "5390c10c-bfe5-400c-8fab-998facb51078",
   "metadata": {},
   "outputs": [],
   "source": [
    "optmz2.step() ## update 후"
   ]
  },
  {
   "cell_type": "code",
   "execution_count": 74,
   "id": "2361a699-0ef6-43f0-b03a-3238679ab41e",
   "metadata": {},
   "outputs": [
    {
     "data": {
      "text/plain": [
       "tensor([[-3.6577,  8.8111]])"
      ]
     },
     "execution_count": 74,
     "metadata": {},
     "output_type": "execute_result"
    }
   ],
   "source": [
    "net2.weight.data"
   ]
  },
  {
   "cell_type": "markdown",
   "id": "59532c5b-90ba-48d6-a873-ed3b924284bc",
   "metadata": {},
   "source": [
    "#### loss3"
   ]
  },
  {
   "cell_type": "code",
   "execution_count": 76,
   "id": "2da713e2-20d6-4c5f-ba6b-474fad25c1c0",
   "metadata": {},
   "outputs": [
    {
     "data": {
      "text/plain": [
       "(tensor([[-5.]]), tensor([[10.]]))"
      ]
     },
     "execution_count": 76,
     "metadata": {},
     "output_type": "execute_result"
    }
   ],
   "source": [
    "net3.bias.data, net3.weight.data"
   ]
  },
  {
   "cell_type": "code",
   "execution_count": 77,
   "id": "091ce6cc-68e5-40e9-8296-78c9574e0532",
   "metadata": {},
   "outputs": [],
   "source": [
    "optmz3= torch.optim.SGD(net3.parameters(),lr=0.1)"
   ]
  },
  {
   "cell_type": "code",
   "execution_count": 78,
   "id": "3ef3f9dd-4b4b-4410-aaec-81de399de398",
   "metadata": {},
   "outputs": [],
   "source": [
    "optmz3.step()"
   ]
  },
  {
   "cell_type": "code",
   "execution_count": 79,
   "id": "09dd8efa-c582-4ff4-931e-a5d53e066dfa",
   "metadata": {},
   "outputs": [
    {
     "data": {
      "text/plain": [
       "(tensor([[-3.6577]]), tensor([[8.8111]]))"
      ]
     },
     "execution_count": 79,
     "metadata": {},
     "output_type": "execute_result"
    }
   ],
   "source": [
    "net3.bias.data,net3.weight.data"
   ]
  },
  {
   "cell_type": "code",
   "execution_count": 81,
   "id": "8893bae9-d78f-41b3-af52-110dc809bbac",
   "metadata": {},
   "outputs": [
    {
     "data": {
      "text/plain": [
       "[Parameter containing:\n",
       " tensor([[8.8111]], requires_grad=True),\n",
       " Parameter containing:\n",
       " tensor([[-3.6577]], requires_grad=True)]"
      ]
     },
     "execution_count": 81,
     "metadata": {},
     "output_type": "execute_result"
    }
   ],
   "source": [
    "list(net3.parameters())"
   ]
  },
  {
   "cell_type": "markdown",
   "id": "eb4e7def-fcc4-4d27-b473-b7e85dbf554c",
   "metadata": {},
   "source": [
    "#### loss4"
   ]
  },
  {
   "cell_type": "code",
   "execution_count": 80,
   "id": "32dd1ce4-246c-465a-b88c-14a1b67a454b",
   "metadata": {},
   "outputs": [
    {
     "data": {
      "text/plain": [
       "tensor([-5., 10.])"
      ]
     },
     "execution_count": 80,
     "metadata": {},
     "output_type": "execute_result"
    }
   ],
   "source": [
    "What4.data"
   ]
  },
  {
   "cell_type": "code",
   "execution_count": 82,
   "id": "01597110-5336-43c0-a374-ac37ad26b56f",
   "metadata": {},
   "outputs": [
    {
     "data": {
      "text/plain": [
       "tensor([-3.6577,  8.8111], requires_grad=True)"
      ]
     },
     "execution_count": 82,
     "metadata": {},
     "output_type": "execute_result"
    }
   ],
   "source": [
    "lr=0.1\n",
    "What4.data = What4.data- lr*What4.grad.data ## update 후 \n",
    "What4"
   ]
  },
  {
   "cell_type": "markdown",
   "id": "613cd3f3-d118-4ca3-878c-af6319f518d8",
   "metadata": {},
   "source": [
    "#### loss5   ## 최신버전!!"
   ]
  },
  {
   "cell_type": "code",
   "execution_count": 83,
   "id": "b5bd6a6a-5184-4abb-adc1-6d54623f2fb8",
   "metadata": {},
   "outputs": [
    {
     "data": {
      "text/plain": [
       "tensor([-5., 10.])"
      ]
     },
     "execution_count": 83,
     "metadata": {},
     "output_type": "execute_result"
    }
   ],
   "source": [
    "net5.weight.data"
   ]
  },
  {
   "cell_type": "code",
   "execution_count": 84,
   "id": "aa46e87b-8f8d-442c-aae3-ebdde938ea3a",
   "metadata": {},
   "outputs": [],
   "source": [
    "optmz5= torch.optim.SGD(net5.parameters(),lr=0.1)\n",
    "optmz5.step()"
   ]
  },
  {
   "cell_type": "code",
   "execution_count": 85,
   "id": "02f56bbb-71a1-4b60-8617-36e6a65c014c",
   "metadata": {},
   "outputs": [
    {
     "data": {
      "text/plain": [
       "tensor([-3.6577,  8.8111])"
      ]
     },
     "execution_count": 85,
     "metadata": {},
     "output_type": "execute_result"
    }
   ],
   "source": [
    "net5.weight.data"
   ]
  },
  {
   "cell_type": "markdown",
   "id": "f4a6cb13-3160-4009-8114-2fac5412afdb",
   "metadata": {},
   "source": [
    "#### loss6"
   ]
  },
  {
   "cell_type": "code",
   "execution_count": 86,
   "id": "93407130-1f0d-4911-82bd-4dc2aef8aae2",
   "metadata": {},
   "outputs": [
    {
     "data": {
      "text/plain": [
       "(tensor([[-5.]]), tensor([[10.]]))"
      ]
     },
     "execution_count": 86,
     "metadata": {},
     "output_type": "execute_result"
    }
   ],
   "source": [
    "net6.bias.data,net6.weight.data"
   ]
  },
  {
   "cell_type": "code",
   "execution_count": 87,
   "id": "b269caa2-8355-4a10-bb01-9a530a6a723d",
   "metadata": {},
   "outputs": [],
   "source": [
    "optmz6= torch.optim.SGD(net6.parameters(),lr=0.1)\n",
    "optmz6.step()"
   ]
  },
  {
   "cell_type": "code",
   "execution_count": 88,
   "id": "b7157236-0ede-46e2-957a-f97d9db54811",
   "metadata": {},
   "outputs": [
    {
     "data": {
      "text/plain": [
       "(tensor([[-3.6577]]), tensor([[8.8111]]))"
      ]
     },
     "execution_count": 88,
     "metadata": {},
     "output_type": "execute_result"
    }
   ],
   "source": [
    "net6.bias.data,net6.weight.data"
   ]
  },
  {
   "cell_type": "markdown",
   "id": "99f134ef-cef9-4a2d-b97d-8e9793ef520f",
   "metadata": {},
   "source": [
    "### step1~4를 반복"
   ]
  },
  {
   "cell_type": "code",
   "execution_count": 94,
   "id": "ddb08c67-f0f8-4ac2-b01f-aafb0c4aa149",
   "metadata": {},
   "outputs": [],
   "source": [
    "net= torch.nn.Linear(in_features=2,out_features=1, bias=False) ##모형 정의\n",
    "optmz=torch.optim.SGD(net.parameters(),lr=0.1)\n",
    "mseloss=torch.nn.MSELoss()\n",
    "\n",
    "for epoc in range(100):\n",
    "    # step1: yhat\n",
    "    yhat=net(X)\n",
    "    # step2: loss\n",
    "    loss=mseloss(y.reshape(100,1),yhat)\n",
    "    # step3: derivation\n",
    "    loss.backward()\n",
    "    # step4: update\n",
    "    optmz.step()\n",
    "    optmz.zero_grad() ## 기울기 초기화를 위해 꼭 외우기"
   ]
  },
  {
   "cell_type": "code",
   "execution_count": 93,
   "id": "be266a3b-baa3-4a02-a2c7-84f2ee46a38c",
   "metadata": {},
   "outputs": [
    {
     "data": {
      "text/plain": [
       "[Parameter containing:\n",
       " tensor([[2.4459, 4.0043]], requires_grad=True)]"
      ]
     },
     "execution_count": 93,
     "metadata": {},
     "output_type": "execute_result"
    }
   ],
   "source": [
    "list(net.parameters())"
   ]
  },
  {
   "cell_type": "markdown",
   "id": "bf881e44-53fa-4b9f-9497-5fad64d8b275",
   "metadata": {},
   "source": [
    "## 숙제"
   ]
  },
  {
   "cell_type": "code",
   "execution_count": 95,
   "id": "a65dcdd1-771e-4f87-ad2b-33d714465350",
   "metadata": {},
   "outputs": [],
   "source": [
    "net= torch.nn.Linear(in_features=2,out_features=1, bias=False) ##모형 정의\n",
    "optmz=torch.optim.SGD(net.parameters(),lr=0.1)\n",
    "mseloss=torch.nn.MSELoss()\n",
    "\n",
    "for epoc in range(100):\n",
    "    # step1: yhat\n",
    "    yhat=net(X)\n",
    "    # step2: loss\n",
    "    loss=mseloss(y.reshape(100,1),yhat)\n",
    "    # step3: derivation\n",
    "    loss.backward()\n",
    "    # step4: update\n",
    "    optmz.step()"
   ]
  },
  {
   "cell_type": "code",
   "execution_count": 96,
   "id": "386cb842-ecec-44a4-a50a-c11415b1889d",
   "metadata": {},
   "outputs": [
    {
     "data": {
      "text/plain": [
       "[Parameter containing:\n",
       " tensor([[-0.6880,  0.5531]], requires_grad=True)]"
      ]
     },
     "execution_count": 96,
     "metadata": {},
     "output_type": "execute_result"
    }
   ],
   "source": [
    "list(net.parameters())"
   ]
  },
  {
   "cell_type": "code",
   "execution_count": null,
   "id": "425ebf71-0184-44a6-9800-4594fbdaa000",
   "metadata": {},
   "outputs": [],
   "source": []
  }
 ],
 "metadata": {
  "kernelspec": {
   "display_name": "Python 3 (ipykernel)",
   "language": "python",
   "name": "python3"
  },
  "language_info": {
   "codemirror_mode": {
    "name": "ipython",
    "version": 3
   },
   "file_extension": ".py",
   "mimetype": "text/x-python",
   "name": "python",
   "nbconvert_exporter": "python",
   "pygments_lexer": "ipython3",
   "version": "3.8.11"
  }
 },
 "nbformat": 4,
 "nbformat_minor": 5
}
