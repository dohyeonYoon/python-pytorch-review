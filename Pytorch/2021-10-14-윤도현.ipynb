{
 "cells": [
  {
   "cell_type": "markdown",
   "id": "db56952a-7eea-4c86-a76b-6522fc317916",
   "metadata": {},
   "source": [
    "# Dataset, DataLoader "
   ]
  },
  {
   "cell_type": "markdown",
   "id": "6e4d5837-4100-4323-bf11-1293684774b6",
   "metadata": {},
   "source": [
    "> 미니배치"
   ]
  },
  {
   "cell_type": "code",
   "execution_count": 32,
   "id": "5fb2a06c-295f-46d4-9046-dd43590d0c05",
   "metadata": {},
   "outputs": [],
   "source": [
    "import torch\n",
    "from fastai.vision.all import *"
   ]
  },
  {
   "cell_type": "markdown",
   "id": "2c280623-129f-40c9-81dc-475f4e5428e5",
   "metadata": {},
   "source": [
    "### Dataset"
   ]
  },
  {
   "cell_type": "code",
   "execution_count": 2,
   "id": "c54cfa10-57be-44f9-9e45-75c4127e9712",
   "metadata": {},
   "outputs": [],
   "source": [
    "X= torch.tensor([3.0,4.0,5.0,6.0,7.0,8.0,9.0])\n",
    "y= torch.tensor([1.0,0.0,1.0,0.0,1.0,1.0,0.0])"
   ]
  },
  {
   "cell_type": "code",
   "execution_count": 3,
   "id": "67f406c0-d1b5-4a83-9921-527e300b725b",
   "metadata": {},
   "outputs": [
    {
     "data": {
      "text/plain": [
       "(tensor([3., 4., 5., 6., 7., 8., 9.]), tensor([1., 0., 1., 0., 1., 1., 0.]))"
      ]
     },
     "execution_count": 3,
     "metadata": {},
     "output_type": "execute_result"
    }
   ],
   "source": [
    "X,y"
   ]
  },
  {
   "cell_type": "code",
   "execution_count": 5,
   "id": "6abc2410-1ebe-46a6-b784-af1efd5532bc",
   "metadata": {},
   "outputs": [],
   "source": [
    "ds= torch.utils.data.TensorDataset(X,y)"
   ]
  },
  {
   "cell_type": "code",
   "execution_count": 10,
   "id": "90a59c33-1630-4b36-9467-ad32dffa1541",
   "metadata": {},
   "outputs": [
    {
     "data": {
      "text/plain": [
       "<torch.utils.data.dataset.TensorDataset at 0x1dcb54f6dc0>"
      ]
     },
     "execution_count": 10,
     "metadata": {},
     "output_type": "execute_result"
    }
   ],
   "source": [
    "ds ## 그냥 텐서들의 pair이다."
   ]
  },
  {
   "cell_type": "code",
   "execution_count": 11,
   "id": "02b9070d-5a19-489f-83ad-5099db6e4f2b",
   "metadata": {},
   "outputs": [
    {
     "data": {
      "text/plain": [
       "(tensor([3., 4., 5., 6., 7., 8., 9.]), tensor([1., 0., 1., 0., 1., 1., 0.]))"
      ]
     },
     "execution_count": 11,
     "metadata": {},
     "output_type": "execute_result"
    }
   ],
   "source": [
    "ds.tensors"
   ]
  },
  {
   "cell_type": "markdown",
   "id": "28621a16-ff70-48bd-9aa0-c457acf84cdc",
   "metadata": {},
   "source": [
    "### DataLoader"
   ]
  },
  {
   "cell_type": "markdown",
   "id": "865c1943-e1cb-41a5-bebe-04d448a2367c",
   "metadata": {},
   "source": [
    "`-` 배치사이즈=2, 셔플=True"
   ]
  },
  {
   "cell_type": "code",
   "execution_count": 12,
   "id": "2ad28dd8-8608-43ae-ad25-4a6289231931",
   "metadata": {},
   "outputs": [],
   "source": [
    "dl= torch.utils.data.DataLoader(ds,batch_size=2, shuffle=True)"
   ]
  },
  {
   "cell_type": "code",
   "execution_count": 15,
   "id": "90986525-8ea3-46a8-944a-f1536c039585",
   "metadata": {},
   "outputs": [
    {
     "data": {
      "text/plain": [
       "<torch.utils.data.dataloader.DataLoader at 0x1dcc9785f40>"
      ]
     },
     "execution_count": 15,
     "metadata": {},
     "output_type": "execute_result"
    }
   ],
   "source": [
    "dl"
   ]
  },
  {
   "cell_type": "code",
   "execution_count": 16,
   "id": "216ba789-1e95-4617-9c1c-7e129941b87e",
   "metadata": {},
   "outputs": [
    {
     "data": {
      "text/plain": [
       "['_DataLoader__initialized',\n",
       " '_DataLoader__multiprocessing_context',\n",
       " '_IterableDataset_len_called',\n",
       " '__annotations__',\n",
       " '__class__',\n",
       " '__class_getitem__',\n",
       " '__delattr__',\n",
       " '__dict__',\n",
       " '__dir__',\n",
       " '__doc__',\n",
       " '__eq__',\n",
       " '__format__',\n",
       " '__ge__',\n",
       " '__getattribute__',\n",
       " '__gt__',\n",
       " '__hash__',\n",
       " '__init__',\n",
       " '__init_subclass__',\n",
       " '__iter__',\n",
       " '__le__',\n",
       " '__len__',\n",
       " '__lt__',\n",
       " '__module__',\n",
       " '__ne__',\n",
       " '__new__',\n",
       " '__orig_bases__',\n",
       " '__parameters__',\n",
       " '__reduce__',\n",
       " '__reduce_ex__',\n",
       " '__repr__',\n",
       " '__setattr__',\n",
       " '__sizeof__',\n",
       " '__slots__',\n",
       " '__str__',\n",
       " '__subclasshook__',\n",
       " '__weakref__',\n",
       " '_auto_collation',\n",
       " '_dataset_kind',\n",
       " '_get_iterator',\n",
       " '_index_sampler',\n",
       " '_is_protocol',\n",
       " '_iterator',\n",
       " 'batch_sampler',\n",
       " 'batch_size',\n",
       " 'check_worker_number_rationality',\n",
       " 'collate_fn',\n",
       " 'dataset',\n",
       " 'drop_last',\n",
       " 'generator',\n",
       " 'multiprocessing_context',\n",
       " 'num_workers',\n",
       " 'persistent_workers',\n",
       " 'pin_memory',\n",
       " 'prefetch_factor',\n",
       " 'sampler',\n",
       " 'timeout',\n",
       " 'worker_init_fn']"
      ]
     },
     "execution_count": 16,
     "metadata": {},
     "output_type": "execute_result"
    }
   ],
   "source": [
    "dir(dl)"
   ]
  },
  {
   "cell_type": "markdown",
   "id": "1d080e41-e105-4e4d-a1a3-ede3fc856735",
   "metadata": {},
   "source": [
    "- dl은 배치를 만드는 기능이 있음"
   ]
  },
  {
   "cell_type": "markdown",
   "id": "447067b1-3990-4b7e-addb-b2d6d8c987ea",
   "metadata": {
    "tags": []
   },
   "source": [
    "### X,y 가 묶여 ds가 되고 DataLoader 함수로 ds 2개씩 묶여 dl이 되었다 "
   ]
  },
  {
   "cell_type": "code",
   "execution_count": 24,
   "id": "e23854ce-a4bd-44e6-a34f-5fecddb135c1",
   "metadata": {},
   "outputs": [
    {
     "name": "stdout",
     "output_type": "stream",
     "text": [
      "tensor([8., 3.]) tensor([1., 1.])\n",
      "tensor([4., 6.]) tensor([0., 0.])\n",
      "tensor([5., 7.]) tensor([1., 1.])\n",
      "tensor([9.]) tensor([0.])\n"
     ]
    }
   ],
   "source": [
    "for xx,yy in dl:\n",
    "    print(xx,yy)"
   ]
  },
  {
   "cell_type": "markdown",
   "id": "4956bf15-61c5-412a-8361-cdb416e8bcab",
   "metadata": {},
   "source": [
    "### 그냥 경사하강법은 full data를 이용해 가중치 갱신\n",
    "### 확률적 경사하강법은 full data 말고 임의의 데이터 뽑아서 가중치 갱신 "
   ]
  },
  {
   "cell_type": "markdown",
   "id": "e22ba63a-f5bf-428b-87a4-163a74ad3168",
   "metadata": {},
   "source": [
    "`-` 배치사이즈=2, 셔플=False"
   ]
  },
  {
   "cell_type": "code",
   "execution_count": 25,
   "id": "d3c392db-02b0-4b96-a713-9b9f2078b178",
   "metadata": {},
   "outputs": [],
   "source": [
    "dl = torch.utils.data.DataLoader(ds, batch_size=2, shuffle=False)"
   ]
  },
  {
   "cell_type": "code",
   "execution_count": 29,
   "id": "3dc9a50c-c03c-4902-a06b-8d88a25e5f57",
   "metadata": {},
   "outputs": [
    {
     "name": "stdout",
     "output_type": "stream",
     "text": [
      "tensor([3., 4.]) tensor([1., 0.])\n",
      "tensor([5., 6.]) tensor([1., 0.])\n",
      "tensor([7., 8.]) tensor([1., 1.])\n",
      "tensor([9.]) tensor([0.])\n"
     ]
    }
   ],
   "source": [
    "for xx,yy in dl:\n",
    "    print(xx,yy)"
   ]
  },
  {
   "cell_type": "markdown",
   "id": "7561c3a8-71d0-4358-91fe-94fe947dc4fe",
   "metadata": {},
   "source": [
    "`-` 배치사이즈=3, 셔플=True"
   ]
  },
  {
   "cell_type": "code",
   "execution_count": 30,
   "id": "025cb0a8-decb-4c45-b479-3fa9adcad881",
   "metadata": {},
   "outputs": [],
   "source": [
    "dl = torch.utils.data.DataLoader(ds, batch_size=3, shuffle=True)"
   ]
  },
  {
   "cell_type": "code",
   "execution_count": 31,
   "id": "0918567e-824e-4925-ba08-ae8b8aca827e",
   "metadata": {},
   "outputs": [
    {
     "name": "stdout",
     "output_type": "stream",
     "text": [
      "tensor([7., 4., 3.]) tensor([1., 0., 1.])\n",
      "tensor([8., 6., 5.]) tensor([1., 0., 1.])\n",
      "tensor([9.]) tensor([0.])\n"
     ]
    }
   ],
   "source": [
    "for xx,yy in dl:\n",
    "    print(xx,yy)"
   ]
  },
  {
   "cell_type": "markdown",
   "id": "4ef55385-d4ef-4102-bc42-699fbf5afdd7",
   "metadata": {},
   "source": [
    "### MNIST 3/7 예제"
   ]
  },
  {
   "cell_type": "markdown",
   "id": "76c9922d-419d-4994-b50b-ceed970b9736",
   "metadata": {},
   "source": [
    "`-` 우선 텐서로 이루어진 X,y를 만들자. "
   ]
  },
  {
   "cell_type": "code",
   "execution_count": 33,
   "id": "84c5f42b-f955-4af4-8188-77bd0caea050",
   "metadata": {},
   "outputs": [],
   "source": [
    "path = untar_data(URLs.MNIST_SAMPLE)"
   ]
  },
  {
   "cell_type": "code",
   "execution_count": 34,
   "id": "7a2d9f2e-5dcb-4f60-9fde-4b1dc31d36c1",
   "metadata": {},
   "outputs": [],
   "source": [
    "threes = (path/'train'/'3').ls()\n",
    "sevens = (path/'train'/'7').ls()"
   ]
  },
  {
   "cell_type": "code",
   "execution_count": 35,
   "id": "8b456e65-9f66-4262-8dac-26bb080c3bdf",
   "metadata": {},
   "outputs": [],
   "source": [
    "seven_tensor = torch.stack([tensor(Image.open(i)) for i in sevens]).float()/255\n",
    "three_tensor = torch.stack([tensor(Image.open(i)) for i in threes]).float()/255"
   ]
  },
  {
   "cell_type": "code",
   "execution_count": 64,
   "id": "2d1d3842-bada-451a-b018-a1afedad7ff0",
   "metadata": {},
   "outputs": [],
   "source": [
    "X=torch.vstack([seven_tensor,three_tensor]).reshape(12396,-1)\n",
    "y= torch.tensor([0.0]*6265+[1.0]*6131).reshape(12396,1)"
   ]
  },
  {
   "cell_type": "markdown",
   "id": "7ea2b85e-5a14-484e-89c5-016961259957",
   "metadata": {},
   "source": [
    "`-` dataset(X,y) 만들자"
   ]
  },
  {
   "cell_type": "code",
   "execution_count": 65,
   "id": "1f4cbd76-1c9a-4acb-8aab-2d393313fec1",
   "metadata": {},
   "outputs": [],
   "source": [
    "ds= torch.utils.data.TensorDataset(X,y)"
   ]
  },
  {
   "cell_type": "code",
   "execution_count": 66,
   "id": "49e2e6bd-9485-4f0a-8538-735144a48ccc",
   "metadata": {},
   "outputs": [
    {
     "data": {
      "text/plain": [
       "(tensor([[0., 0., 0.,  ..., 0., 0., 0.],\n",
       "         [0., 0., 0.,  ..., 0., 0., 0.],\n",
       "         [0., 0., 0.,  ..., 0., 0., 0.],\n",
       "         ...,\n",
       "         [0., 0., 0.,  ..., 0., 0., 0.],\n",
       "         [0., 0., 0.,  ..., 0., 0., 0.],\n",
       "         [0., 0., 0.,  ..., 0., 0., 0.]]),\n",
       " tensor([[0.],\n",
       "         [0.],\n",
       "         [0.],\n",
       "         ...,\n",
       "         [1.],\n",
       "         [1.],\n",
       "         [1.]]))"
      ]
     },
     "execution_count": 66,
     "metadata": {},
     "output_type": "execute_result"
    }
   ],
   "source": [
    "ds.tensors"
   ]
  },
  {
   "cell_type": "markdown",
   "id": "4cec0e64-9c48-4e92-ba95-8527a539194f",
   "metadata": {},
   "source": [
    "`-` DataLoader 만들기"
   ]
  },
  {
   "cell_type": "code",
   "execution_count": 67,
   "id": "7d0bb471-7752-4587-8ae2-20124e89ffed",
   "metadata": {},
   "outputs": [],
   "source": [
    "dl= torch.utils.data.DataLoader(ds,batch_size=2048, shuffle=True)"
   ]
  },
  {
   "cell_type": "markdown",
   "id": "f924bbc0-2167-498e-bcf9-275f36278dca",
   "metadata": {},
   "source": [
    "`-` 네트워크(아키텍처), 손실함수, 옵티마이저, "
   ]
  },
  {
   "cell_type": "code",
   "execution_count": 68,
   "id": "85532505-f360-41b5-9278-5424d309b17d",
   "metadata": {},
   "outputs": [],
   "source": [
    "torch.manual_seed=(1)\n",
    "net= torch.nn.Sequential(\n",
    "    torch.nn.Linear(in_features=784, out_features=30),\n",
    "    torch.nn.ReLU(),\n",
    "    torch.nn.Linear(in_features=30,out_features=1,),\n",
    "    #torch.nn.Sigmoid()\n",
    ")\n",
    "loss_fn= torch.nn.BCEWithLogitsLoss()\n",
    "optimizer= torch.optim.Adam(net.parameters())"
   ]
  },
  {
   "cell_type": "markdown",
   "id": "46258800-6caf-40ef-b985-90cb8d5159a3",
   "metadata": {},
   "source": [
    "`-` 저번시간 복습"
   ]
  },
  {
   "cell_type": "code",
   "execution_count": 69,
   "id": "78e93d2d-1d9f-40e6-89bd-107b0c7f0fa6",
   "metadata": {},
   "outputs": [],
   "source": [
    "for epoc in range(200):\n",
    "    \n",
    "    ##1\n",
    "    yhat=net(X)\n",
    "    \n",
    "    ##2\n",
    "    loss= loss_fn(yhat,y)\n",
    "    \n",
    "    ##3\n",
    "    loss.backward()\n",
    "    \n",
    "    ##4\n",
    "    optimizer.step()\n",
    "    net.zero_grad()"
   ]
  },
  {
   "cell_type": "code",
   "execution_count": 71,
   "id": "660c848a-2478-491a-aa14-044df33c36b3",
   "metadata": {},
   "outputs": [
    {
     "data": {
      "text/plain": [
       "[<matplotlib.lines.Line2D at 0x1dce60aebb0>]"
      ]
     },
     "execution_count": 71,
     "metadata": {},
     "output_type": "execute_result"
    },
    {
     "data": {
      "image/png": "[encoded data removed]",
      "text/plain": [
       "<Figure size 432x288 with 1 Axes>"
      ]
     },
     "metadata": {
      "needs_background": "light"
     },
     "output_type": "display_data"
    }
   ],
   "source": [
    "plt.plot(yhat.data,'.')"
   ]
  },
  {
   "cell_type": "code",
   "execution_count": 72,
   "id": "7ba31140-65d2-40af-9b2f-e079a3263a8f",
   "metadata": {},
   "outputs": [
    {
     "data": {
      "text/plain": [
       "[<matplotlib.lines.Line2D at 0x1dce4be45b0>]"
      ]
     },
     "execution_count": 72,
     "metadata": {},
     "output_type": "execute_result"
    },
    {
     "data": {
      "image/png": "[encoded data removed]",
      "text/plain": [
       "<Figure size 432x288 with 1 Axes>"
      ]
     },
     "metadata": {
      "needs_background": "light"
     },
     "output_type": "display_data"
    }
   ],
   "source": [
    "f= torch.nn.Sigmoid()\n",
    "plt.plot(f(yhat.data),'.')"
   ]
  },
  {
   "cell_type": "markdown",
   "id": "18f3124d-9209-4e08-956c-ddf3cd3908cb",
   "metadata": {},
   "source": [
    "# 미니배치 활용해서 해보자!"
   ]
  },
  {
   "cell_type": "code",
   "execution_count": 73,
   "id": "8f5dd796-6263-4ef8-988d-212e7796ef41",
   "metadata": {},
   "outputs": [],
   "source": [
    "torch.manual_seed=(1)\n",
    "net= torch.nn.Sequential(\n",
    "    torch.nn.Linear(in_features=784, out_features=30),\n",
    "    torch.nn.ReLU(),\n",
    "    torch.nn.Linear(in_features=30,out_features=1,),\n",
    "    #torch.nn.Sigmoid()\n",
    ")\n",
    "loss_fn= torch.nn.BCEWithLogitsLoss()\n",
    "optimizer= torch.optim.Adam(net.parameters())"
   ]
  },
  {
   "cell_type": "markdown",
   "id": "b4d2a14a-a475-4dc0-a26a-dfcc4699067c",
   "metadata": {},
   "source": [
    "- 네트워크 파라메터 다시 초기화"
   ]
  },
  {
   "cell_type": "code",
   "execution_count": 75,
   "id": "8ea59314-1195-4532-adab-cae80df52222",
   "metadata": {},
   "outputs": [
    {
     "data": {
      "text/plain": [
       "6.052734375"
      ]
     },
     "execution_count": 75,
     "metadata": {},
     "output_type": "execute_result"
    }
   ],
   "source": [
    "12396/2048"
   ]
  },
  {
   "cell_type": "markdown",
   "id": "aa9f4e69-6c4a-4e6d-9655-af9deb7abb50",
   "metadata": {},
   "source": [
    "- 총 7개의 batch가 만들어진다. $\\to$ 따라서 파라미터를 업데이트하는 횟수가 7 * epoc 임 \n",
    "- 실제적으로는 6* epch 될것임 "
   ]
  },
  {
   "cell_type": "code",
   "execution_count": 76,
   "id": "16521e95-7e43-49e1-aafa-48ce51bf6010",
   "metadata": {},
   "outputs": [],
   "source": [
    "for epoc in range(33):\n",
    "    for xx,yy in dl:\n",
    "        ##1\n",
    "        yyhat=net(xx)\n",
    "        ##2\n",
    "        loss= loss_fn(yyhat,yy)\n",
    "        ##3\n",
    "        loss.backward()\n",
    "        ##4\n",
    "        optimizer.step()\n",
    "        net.zero_grad()"
   ]
  },
  {
   "cell_type": "code",
   "execution_count": 77,
   "id": "b2a77ef5-d563-4fe7-a8fe-f9937cb73424",
   "metadata": {},
   "outputs": [
    {
     "data": {
      "text/plain": [
       "[<matplotlib.lines.Line2D at 0x1dce9e14130>]"
      ]
     },
     "execution_count": 77,
     "metadata": {},
     "output_type": "execute_result"
    },
    {
     "data": {
      "image/png": "[encoded data removed]",
      "text/plain": [
       "<Figure size 432x288 with 1 Axes>"
      ]
     },
     "metadata": {
      "needs_background": "light"
     },
     "output_type": "display_data"
    }
   ],
   "source": [
    "plt.plot(yyhat.data,'.')"
   ]
  },
  {
   "cell_type": "markdown",
   "id": "6482b9bc-e1b9-4ee5-8210-c877c68e6f50",
   "metadata": {},
   "source": [
    "- 이게 왜이러지?\n",
    "- 배치사이즈를 다시 확인해보자."
   ]
  },
  {
   "cell_type": "code",
   "execution_count": 78,
   "id": "b9b4434e-00d2-45d0-b627-a693d7aded7b",
   "metadata": {},
   "outputs": [
    {
     "name": "stdout",
     "output_type": "stream",
     "text": [
      "torch.Size([2048, 784]) torch.Size([2048, 1])\n",
      "torch.Size([2048, 784]) torch.Size([2048, 1])\n",
      "torch.Size([2048, 784]) torch.Size([2048, 1])\n",
      "torch.Size([2048, 784]) torch.Size([2048, 1])\n",
      "torch.Size([2048, 784]) torch.Size([2048, 1])\n",
      "torch.Size([2048, 784]) torch.Size([2048, 1])\n",
      "torch.Size([108, 784]) torch.Size([108, 1])\n"
     ]
    }
   ],
   "source": [
    "for xx,yy in dl:\n",
    "    print(xx.shape,yy.shape)\n"
   ]
  },
  {
   "cell_type": "code",
   "execution_count": 81,
   "id": "48c5ce40-e250-4af5-a787-d527540702e8",
   "metadata": {},
   "outputs": [
    {
     "data": {
      "text/plain": [
       "[<matplotlib.lines.Line2D at 0x1dce4bd3340>]"
      ]
     },
     "execution_count": 81,
     "metadata": {},
     "output_type": "execute_result"
    },
    {
     "data": {
      "image/png": "[encoded data removed]",
      "text/plain": [
       "<Figure size 432x288 with 1 Axes>"
      ]
     },
     "metadata": {
      "needs_background": "light"
     },
     "output_type": "display_data"
    }
   ],
   "source": [
    "plt.plot(net(X).data,'.')"
   ]
  },
  {
   "cell_type": "code",
   "execution_count": 82,
   "id": "11d1fc97-70ee-4bdc-9cc3-58b6bb781735",
   "metadata": {},
   "outputs": [
    {
     "data": {
      "text/plain": [
       "[<matplotlib.lines.Line2D at 0x1dcea66cf10>]"
      ]
     },
     "execution_count": 82,
     "metadata": {},
     "output_type": "execute_result"
    },
    {
     "data": {
      "image/png": "[encoded data removed]",
      "text/plain": [
       "<Figure size 432x288 with 1 Axes>"
      ]
     },
     "metadata": {
      "needs_background": "light"
     },
     "output_type": "display_data"
    }
   ],
   "source": [
    "plt.plot(f(net(X).data),'.')"
   ]
  },
  {
   "cell_type": "markdown",
   "id": "2770b22c-0666-408a-b7ae-bc528f22955b",
   "metadata": {},
   "source": [
    "# 결론: 2048개 정도만 대충 학습해도 동일 반복횟수에 대하여 거의 대등한 효율이 나옴!"
   ]
  },
  {
   "cell_type": "markdown",
   "id": "27bf65db-59e2-4c68-b846-a63fe8cf7c21",
   "metadata": {},
   "source": [
    "`-` GPU에 있는 메모리로 12396개의 데이터를 모두 보내지 않아도 괜찮겠다\n",
    "\n",
    "`-` net.parameters()에 저장된 값들은 그대로 GPU로 가야만 한다. $\\to$ 그래픽카드의 메모리를 얼마나 큰걸로 살지는 모형의 복잡도와 관련이 있다.\n",
    "\n",
    "`-` 딥러닝용 컴퓨터 구매방법 \n",
    "- 메모리: $n$이 큰 자료를 다룰수록 메모리가 커야한다.\n",
    "- GPU의 메모리: 모형의 복잡도가 커질수록 (모델 파라미터수가 많을수록) 큰걸 사야한다."
   ]
  },
  {
   "cell_type": "markdown",
   "id": "1cfe5518-201c-45fe-995f-23210b860047",
   "metadata": {},
   "source": [
    "# 숙제: 배치사이즈 1024개로 바꿔서 실행"
   ]
  },
  {
   "cell_type": "code",
   "execution_count": 83,
   "id": "2b44a48e-604b-44b4-b5d0-ca54a9d3812f",
   "metadata": {},
   "outputs": [],
   "source": [
    "dl= torch.utils.data.DataLoader(ds,batch_size=1024, shuffle=True)"
   ]
  },
  {
   "cell_type": "markdown",
   "id": "b7df4162-e2e3-471a-ad7e-d58be8fb4150",
   "metadata": {},
   "source": [
    "`-` 네트워크(아키텍처), 손실함수, 옵티마이저, "
   ]
  },
  {
   "cell_type": "code",
   "execution_count": 84,
   "id": "33243ea5-305f-493e-852f-8aa43f9e9db2",
   "metadata": {},
   "outputs": [],
   "source": [
    "torch.manual_seed=(1)\n",
    "net= torch.nn.Sequential(\n",
    "    torch.nn.Linear(in_features=784, out_features=30),\n",
    "    torch.nn.ReLU(),\n",
    "    torch.nn.Linear(in_features=30,out_features=1,),\n",
    "    #torch.nn.Sigmoid()\n",
    ")\n",
    "loss_fn= torch.nn.BCEWithLogitsLoss()\n",
    "optimizer= torch.optim.Adam(net.parameters())"
   ]
  },
  {
   "cell_type": "code",
   "execution_count": 93,
   "id": "6a56e4c8-526e-46c1-84ac-4352330108bf",
   "metadata": {},
   "outputs": [
    {
     "data": {
      "text/plain": [
       "12.10546875"
      ]
     },
     "execution_count": 93,
     "metadata": {},
     "output_type": "execute_result"
    }
   ],
   "source": [
    "12396/1024"
   ]
  },
  {
   "cell_type": "code",
   "execution_count": 94,
   "id": "cf3db005-259e-4169-8407-5036835233fe",
   "metadata": {},
   "outputs": [
    {
     "data": {
      "text/plain": [
       "16.666666666666668"
      ]
     },
     "execution_count": 94,
     "metadata": {},
     "output_type": "execute_result"
    }
   ],
   "source": [
    "200/12"
   ]
  },
  {
   "cell_type": "code",
   "execution_count": 95,
   "id": "daf918be-1b7c-4c0e-a3ca-b40b277d769f",
   "metadata": {},
   "outputs": [],
   "source": [
    "for epoc in range(16):\n",
    "    for xx,yy in dl:\n",
    "        ##1\n",
    "        yyhat=net(xx)\n",
    "        ##2\n",
    "        loss= loss_fn(yyhat,yy)\n",
    "        ##3\n",
    "        loss.backward()\n",
    "        ##4\n",
    "        optimizer.step()\n",
    "        net.zero_grad()"
   ]
  },
  {
   "cell_type": "code",
   "execution_count": 96,
   "id": "2726f7c8-5340-474f-9108-722c3facbca6",
   "metadata": {},
   "outputs": [
    {
     "data": {
      "text/plain": [
       "[<matplotlib.lines.Line2D at 0x1dcebfa8820>]"
      ]
     },
     "execution_count": 96,
     "metadata": {},
     "output_type": "execute_result"
    },
    {
     "data": {
      "image/png": "[encoded data removed]",
      "text/plain": [
       "<Figure size 432x288 with 1 Axes>"
      ]
     },
     "metadata": {
      "needs_background": "light"
     },
     "output_type": "display_data"
    }
   ],
   "source": [
    "plt.plot(yyhat.data,'.')"
   ]
  },
  {
   "cell_type": "markdown",
   "id": "8c7f4c57-cb6c-4db8-ad56-e744ec120068",
   "metadata": {},
   "source": [
    "- 이게 왜이러지?\n",
    "- 배치사이즈를 다시 확인해보자."
   ]
  },
  {
   "cell_type": "code",
   "execution_count": 97,
   "id": "46feb880-5577-415b-9913-1d565e778094",
   "metadata": {},
   "outputs": [
    {
     "name": "stdout",
     "output_type": "stream",
     "text": [
      "torch.Size([1024, 784]) torch.Size([1024, 1])\n",
      "torch.Size([1024, 784]) torch.Size([1024, 1])\n",
      "torch.Size([1024, 784]) torch.Size([1024, 1])\n",
      "torch.Size([1024, 784]) torch.Size([1024, 1])\n",
      "torch.Size([1024, 784]) torch.Size([1024, 1])\n",
      "torch.Size([1024, 784]) torch.Size([1024, 1])\n",
      "torch.Size([1024, 784]) torch.Size([1024, 1])\n",
      "torch.Size([1024, 784]) torch.Size([1024, 1])\n",
      "torch.Size([1024, 784]) torch.Size([1024, 1])\n",
      "torch.Size([1024, 784]) torch.Size([1024, 1])\n",
      "torch.Size([1024, 784]) torch.Size([1024, 1])\n",
      "torch.Size([1024, 784]) torch.Size([1024, 1])\n",
      "torch.Size([108, 784]) torch.Size([108, 1])\n"
     ]
    }
   ],
   "source": [
    "for xx,yy in dl:\n",
    "    print(xx.shape,yy.shape)"
   ]
  },
  {
   "cell_type": "code",
   "execution_count": 98,
   "id": "d54f8adc-732a-41e1-b4b5-9e2d617d865c",
   "metadata": {},
   "outputs": [
    {
     "data": {
      "text/plain": [
       "[<matplotlib.lines.Line2D at 0x1dcf6dfb550>]"
      ]
     },
     "execution_count": 98,
     "metadata": {},
     "output_type": "execute_result"
    },
    {
     "data": {
      "image/png": "[encoded data removed]",
      "text/plain": [
       "<Figure size 432x288 with 1 Axes>"
      ]
     },
     "metadata": {
      "needs_background": "light"
     },
     "output_type": "display_data"
    }
   ],
   "source": [
    "plt.plot(net(X).data,'.')"
   ]
  },
  {
   "cell_type": "code",
   "execution_count": 99,
   "id": "893672a6-8805-40cd-b284-20d86e35f7e5",
   "metadata": {},
   "outputs": [
    {
     "data": {
      "text/plain": [
       "[<matplotlib.lines.Line2D at 0x1dcebf60430>]"
      ]
     },
     "execution_count": 99,
     "metadata": {},
     "output_type": "execute_result"
    },
    {
     "data": {
      "image/png": "[encoded data removed]",
      "text/plain": [
       "<Figure size 432x288 with 1 Axes>"
      ]
     },
     "metadata": {
      "needs_background": "light"
     },
     "output_type": "display_data"
    }
   ],
   "source": [
    "plt.plot(f(net(X).data),'.')"
   ]
  },
  {
   "cell_type": "code",
   "execution_count": null,
   "id": "6fe09a9e-741d-4f09-837d-967ac1dbcce9",
   "metadata": {},
   "outputs": [],
   "source": []
  }
 ],
 "metadata": {
  "kernelspec": {
   "display_name": "Python 3 (ipykernel)",
   "language": "python",
   "name": "python3"
  },
  "language_info": {
   "codemirror_mode": {
    "name": "ipython",
    "version": 3
   },
   "file_extension": ".py",
   "mimetype": "text/x-python",
   "name": "python",
   "nbconvert_exporter": "python",
   "pygments_lexer": "ipython3",
   "version": "3.8.11"
  }
 },
 "nbformat": 4,
 "nbformat_minor": 5
}
