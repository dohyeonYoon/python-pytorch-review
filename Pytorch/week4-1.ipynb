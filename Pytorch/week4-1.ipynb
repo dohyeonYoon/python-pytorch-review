{
 "cells": [
  {
   "cell_type": "markdown",
   "id": "2df386fb-66d1-40e5-b3c4-2fc943307ccc",
   "metadata": {
    "tags": []
   },
   "source": [
    "# (4주차) 10월7일\n",
    "> 신경망의 표현력 \n",
    "\n",
    "- toc:true\n",
    "- branch: master\n",
    "- badges: true\n",
    "- comments: true\n",
    "- author: 윤도현"
   ]
  },
  {
   "cell_type": "markdown",
   "id": "edc3fb02-5996-4305-afc3-ec201991d622",
   "metadata": {},
   "source": [
    "# Logistic regression"
   ]
  },
  {
   "cell_type": "code",
   "execution_count": 29,
   "id": "e95e317f-46a9-49ae-b22f-007cacd8fc69",
   "metadata": {},
   "outputs": [],
   "source": [
    "import torch \n",
    "import matplotlib.pyplot as plt"
   ]
  },
  {
   "cell_type": "markdown",
   "id": "49a454d5-4af0-4439-8c20-6b2b6764bd1d",
   "metadata": {},
   "source": [
    "### example"
   ]
  },
  {
   "cell_type": "markdown",
   "id": "d700e6e0-3e92-4eed-ac5d-b0d53924f878",
   "metadata": {},
   "source": [
    "`-` 현실에서 이런 경우가 많음 \n",
    "\n",
    "`-` x가 커질수록(혹은 작아질수록) 성공확률이 증가함.\n",
    "\n",
    "`-` 이러한 모형은 아래와 같이 설계할 수 있음 <----외우세요!"
   ]
  },
  {
   "cell_type": "markdown",
   "id": "6877121f-c66f-4ab4-9468-92b67aa11258",
   "metadata": {},
   "source": [
    "- $y_i \\sim Ber(\\pi_i),\\quad $ where $\\pi_i = \\frac{\\exp(w_0+w_1x_i)}{1+\\exp(w_0+w_1x_i)}$\n",
    "\n",
    "\n",
    "- $\\hat{y}_i= \\frac{\\exp(\\hat{w}_0+\\hat{w}_1x_i)}{1+\\exp(\\hat{w}_0+\\hat{w}_1x_i)}=\\frac{1}{1+\\exp(-\\hat{w}_0-\\hat{w}_1x_i)}$ \n",
    "\n",
    "\n",
    "- $loss= - \\sum_{i=1}^{n} \\big(y_i\\log(\\hat{y}_i)+(1-y_i)\\log(1-\\hat{y}_i)\\big)$ <--- 외우세요!!"
   ]
  },
  {
   "cell_type": "markdown",
   "id": "69eba39d-4dc4-4682-876c-332c752b2bab",
   "metadata": {},
   "source": [
    "`-` 예제시작"
   ]
  },
  {
   "cell_type": "code",
   "execution_count": 30,
   "id": "c35f01e2-62a0-46bb-ab32-5df5176372e3",
   "metadata": {},
   "outputs": [],
   "source": [
    "X = torch.linspace(-1,1,2000).reshape(2000,1)\n",
    "w0 = -1\n",
    "w1 = 5\n",
    "u = w0+X*w1\n",
    "v = torch.exp(u)/(1+torch.exp(u))\n",
    "y= torch.bernoulli(v)"
   ]
  },
  {
   "cell_type": "code",
   "execution_count": 31,
   "id": "7186b993-b5fe-47c1-8054-73ea85261659",
   "metadata": {},
   "outputs": [
    {
     "data": {
      "text/plain": [
       "[<matplotlib.lines.Line2D at 0x22086cff220>]"
      ]
     },
     "execution_count": 31,
     "metadata": {},
     "output_type": "execute_result"
    },
    {
     "data": {
      "image/png": "[encoded data removed]",
      "text/plain": [
       "<Figure size 432x288 with 1 Axes>"
      ]
     },
     "metadata": {
      "needs_background": "light"
     },
     "output_type": "display_data"
    }
   ],
   "source": [
    "plt.scatter(X,y, alpha=0.05)\n",
    "plt.plot(X,v,'--r')"
   ]
  },
  {
   "cell_type": "markdown",
   "id": "91fbef9e-5d86-44e4-b96d-46ad92d03cae",
   "metadata": {},
   "source": [
    "`-` 다이어그램으로 표현하면"
   ]
  },
  {
   "cell_type": "code",
   "execution_count": 32,
   "id": "309f124a-1c82-4a17-8689-d57b60db9021",
   "metadata": {},
   "outputs": [],
   "source": [
    "import graphviz"
   ]
  },
  {
   "cell_type": "code",
   "execution_count": 33,
   "id": "ce6d5764-5699-47ef-83e5-98aaae11d607",
   "metadata": {},
   "outputs": [],
   "source": [
    "def gv(s): return graphviz.Source('digraph G{ rankdir=\"LR\"' + s + '; }')"
   ]
  },
  {
   "cell_type": "code",
   "execution_count": 34,
   "id": "a9cbe273-7a1c-49c8-83d4-3d72a1623bf6",
   "metadata": {
    "tags": []
   },
   "outputs": [
    {
     "data": {
      "image/svg+xml": [
       "<?xml version=\"1.0\" encoding=\"UTF-8\" standalone=\"no\"?>\r\n",
       "<!DOCTYPE svg PUBLIC \"-//W3C//DTD SVG 1.1//EN\"\r\n",
       " \"http://www.w3.org/Graphics/SVG/1.1/DTD/svg11.dtd\">\r\n",
       "<!-- Generated by graphviz version 2.38.0 (20140413.2041)\r\n",
       " -->\r\n",
       "<!-- Title: G Pages: 1 -->\r\n",
       "<svg width=\"491pt\" height=\"99pt\"\r\n",
       " viewBox=\"0.00 0.00 490.88 99.00\" xmlns=\"http://www.w3.org/2000/svg\" xmlns:xlink=\"http://www.w3.org/1999/xlink\">\r\n",
       "<g id=\"graph0\" class=\"graph\" transform=\"scale(1 1) rotate(0) translate(4 95)\">\r\n",
       "<title>G</title>\r\n",
       "<polygon fill=\"white\" stroke=\"none\" points=\"-4,4 -4,-95 486.878,-95 486.878,4 -4,4\"/>\r\n",
       "<g id=\"clust2\" class=\"cluster\"><title>cluster_2</title>\r\n",
       "<polygon fill=\"lightgrey\" stroke=\"lightgrey\" points=\"8,-8 8,-83 474.878,-83 474.878,-8 8,-8\"/>\r\n",
       "<text text-anchor=\"middle\" x=\"241.439\" y=\"-67.8\" font-family=\"Times New Roman,serif\" font-size=\"14.00\">Layer 1</text>\r\n",
       "</g>\r\n",
       "<!-- X -->\r\n",
       "<g id=\"node1\" class=\"node\"><title>X</title>\r\n",
       "<ellipse fill=\"none\" stroke=\"black\" cx=\"43\" cy=\"-34\" rx=\"27\" ry=\"18\"/>\r\n",
       "<text text-anchor=\"middle\" x=\"43\" y=\"-30.3\" font-family=\"Times New Roman,serif\" font-size=\"14.00\">X</text>\r\n",
       "</g>\r\n",
       "<!-- X@W -->\r\n",
       "<g id=\"node2\" class=\"node\"><title>X@W</title>\r\n",
       "<ellipse fill=\"none\" stroke=\"black\" cx=\"167.447\" cy=\"-34\" rx=\"34.394\" ry=\"18\"/>\r\n",
       "<text text-anchor=\"middle\" x=\"167.447\" y=\"-30.3\" font-family=\"Times New Roman,serif\" font-size=\"14.00\">X@W</text>\r\n",
       "</g>\r\n",
       "<!-- X&#45;&gt;X@W -->\r\n",
       "<g id=\"edge1\" class=\"edge\"><title>X&#45;&gt;X@W</title>\r\n",
       "<path fill=\"none\" stroke=\"black\" d=\"M70.2679,-34C85.541,-34 105.179,-34 122.723,-34\"/>\r\n",
       "<polygon fill=\"black\" stroke=\"black\" points=\"122.763,-37.5001 132.762,-34 122.762,-30.5001 122.763,-37.5001\"/>\r\n",
       "<text text-anchor=\"middle\" x=\"101.5\" y=\"-37.8\" font-family=\"Times New Roman,serif\" font-size=\"14.00\">@W</text>\r\n",
       "</g>\r\n",
       "<!-- Sigmoid(X@W)=yhat -->\r\n",
       "<g id=\"node3\" class=\"node\"><title>Sigmoid(X@W)=yhat</title>\r\n",
       "<ellipse fill=\"none\" stroke=\"black\" cx=\"375.886\" cy=\"-34\" rx=\"90.9839\" ry=\"18\"/>\r\n",
       "<text text-anchor=\"middle\" x=\"375.886\" y=\"-30.3\" font-family=\"Times New Roman,serif\" font-size=\"14.00\">Sigmoid(X@W)=yhat</text>\r\n",
       "</g>\r\n",
       "<!-- X@W&#45;&gt;Sigmoid(X@W)=yhat -->\r\n",
       "<g id=\"edge2\" class=\"edge\"><title>X@W&#45;&gt;Sigmoid(X@W)=yhat</title>\r\n",
       "<path fill=\"none\" stroke=\"black\" d=\"M202.074,-34C222.032,-34 248.488,-34 274.683,-34\"/>\r\n",
       "<polygon fill=\"black\" stroke=\"black\" points=\"274.697,-37.5001 284.697,-34 274.696,-30.5001 274.697,-37.5001\"/>\r\n",
       "<text text-anchor=\"middle\" x=\"243.394\" y=\"-37.8\" font-family=\"Times New Roman,serif\" font-size=\"14.00\">Sigmoid</text>\r\n",
       "</g>\r\n",
       "</g>\r\n",
       "</svg>\r\n"
      ],
      "text/plain": [
       "<graphviz.files.Source at 0x22086cffcd0>"
      ]
     },
     "execution_count": 34,
     "metadata": {},
     "output_type": "execute_result"
    }
   ],
   "source": [
    "#collapse\n",
    "gv('''\n",
    "subgraph cluster_1{\n",
    "    style=filled;\n",
    "    color=lightgrey;\n",
    "    \"X\" \n",
    "    label = \"Layer 0\"\n",
    "}\n",
    "subgraph cluster_2{\n",
    "    style=filled;\n",
    "    color=lightgrey;\n",
    "    \"X\" -> \"X@W\"[label=\"@W\"]\n",
    "    \"X@W\" -> \"Sigmoid(X@W)=yhat\"[label=\"Sigmoid\"]\n",
    "    label = \"Layer 1\"\n",
    "}\n",
    "''')"
   ]
  },
  {
   "cell_type": "markdown",
   "id": "0eec08f7-2d5e-4527-a8fe-14c95dc1e116",
   "metadata": {},
   "source": [
    "`-` 아키텍처, 손실함수, 옵티마이저"
   ]
  },
  {
   "cell_type": "code",
   "execution_count": 35,
   "id": "62cbcc66-95f5-4c1e-924c-13bf0ed89298",
   "metadata": {},
   "outputs": [],
   "source": [
    "torch.manual_seed=(43052)\n",
    "l1= torch.nn.Linear(in_features=1, out_features=1, bias=True)\n",
    "a1=torch.nn.Sigmoid()\n",
    "net= torch.nn.Sequential(l1,a1)\n",
    "\n",
    "#loss = torch.mean((y-yhat)**2) << 이러면 안됩니다!!!!\n",
    "optimizer= torch.optim.SGD(net.parameters(),lr=0.05)"
   ]
  },
  {
   "cell_type": "code",
   "execution_count": 36,
   "id": "19401ec1-2624-49d3-81c2-a1c048d259a4",
   "metadata": {},
   "outputs": [
    {
     "data": {
      "text/plain": [
       "[<matplotlib.lines.Line2D at 0x22086caf880>]"
      ]
     },
     "execution_count": 36,
     "metadata": {},
     "output_type": "execute_result"
    },
    {
     "data": {
      "image/png": "[encoded data removed]",
      "text/plain": [
       "<Figure size 432x288 with 1 Axes>"
      ]
     },
     "metadata": {
      "needs_background": "light"
     },
     "output_type": "display_data"
    }
   ],
   "source": [
    "plt.scatter(X,y,alpha=0.01)\n",
    "plt.plot(X,net(X).data,'--')\n",
    "plt.plot(X,v,'--r')"
   ]
  },
  {
   "cell_type": "markdown",
   "id": "dbf673ae-e1fc-4604-9b55-20870e521da9",
   "metadata": {
    "tags": []
   },
   "source": [
    "`-` step 1~4 반복\n"
   ]
  },
  {
   "cell_type": "code",
   "execution_count": 37,
   "id": "2619c74a-e54c-4924-85ef-a3483382e680",
   "metadata": {},
   "outputs": [],
   "source": [
    "for epoc in range(10000):\n",
    "    #step1\n",
    "    yhat=net(X)\n",
    "    \n",
    "    #step2\n",
    "    loss=-torch.mean(y*torch.log(yhat)+(1-y)*torch.log(1-yhat))\n",
    "    \n",
    "    #step3\n",
    "    loss.backward()\n",
    "    \n",
    "    #step4\n",
    "    optimizer.step()\n",
    "    net.zero_grad()"
   ]
  },
  {
   "cell_type": "code",
   "execution_count": 38,
   "id": "993262c5-c268-4a07-826b-15d352ecc44f",
   "metadata": {},
   "outputs": [
    {
     "data": {
      "text/plain": [
       "[Parameter containing:\n",
       " tensor([[5.0906]], requires_grad=True),\n",
       " Parameter containing:\n",
       " tensor([-1.1216], requires_grad=True)]"
      ]
     },
     "execution_count": 38,
     "metadata": {},
     "output_type": "execute_result"
    }
   ],
   "source": [
    "list(net.parameters())"
   ]
  },
  {
   "cell_type": "code",
   "execution_count": 39,
   "id": "d0eacb9b-adea-4ac6-8986-d02f14078efc",
   "metadata": {},
   "outputs": [
    {
     "data": {
      "text/plain": [
       "[<matplotlib.lines.Line2D at 0x2208744f100>]"
      ]
     },
     "execution_count": 39,
     "metadata": {},
     "output_type": "execute_result"
    },
    {
     "data": {
      "image/png": "[encoded data removed]",
      "text/plain": [
       "<Figure size 432x288 with 1 Axes>"
      ]
     },
     "metadata": {
      "needs_background": "light"
     },
     "output_type": "display_data"
    }
   ],
   "source": [
    "plt.scatter(X,y,alpha=0.01)\n",
    "plt.plot(X,net(X).data,'--')\n",
    "plt.plot(X,v,'--r')"
   ]
  },
  {
   "cell_type": "markdown",
   "id": "11853618-7dbb-4b3e-aa9b-4b1410860665",
   "metadata": {},
   "source": [
    "# 숙제!!!!!"
   ]
  },
  {
   "cell_type": "code",
   "execution_count": 47,
   "id": "2bbfc5e6-36ee-486e-a243-b2d2063511f0",
   "metadata": {},
   "outputs": [],
   "source": [
    "torch.manual_seed=(43052)\n",
    "l1= torch.nn.Linear(in_features=1, out_features=1, bias=True)\n",
    "a1=torch.nn.Sigmoid()\n",
    "net= torch.nn.Sequential(l1,a1)\n",
    "\n",
    "loss_fn= torch.nn.MSELoss()\n",
    "optimizer= torch.optim.SGD(net.parameters(),lr=0.05)"
   ]
  },
  {
   "cell_type": "code",
   "execution_count": 48,
   "id": "ca5f557f-43ec-4bfe-a4b4-69f551639bbe",
   "metadata": {},
   "outputs": [],
   "source": [
    "for epoc in range(10000):\n",
    "    #step1\n",
    "    yhat=net(X)\n",
    "    \n",
    "    #step2\n",
    "    loss=loss_fn(y,yhat)\n",
    "    \n",
    "    #step3\n",
    "    loss.backward()\n",
    "    \n",
    "    #step4\n",
    "    optimizer.step()\n",
    "    net.zero_grad()"
   ]
  },
  {
   "cell_type": "code",
   "execution_count": 49,
   "id": "4f1ac27f-efa7-47f3-92e0-1b3c3c64a525",
   "metadata": {},
   "outputs": [
    {
     "data": {
      "text/plain": [
       "[Parameter containing:\n",
       " tensor([[4.4260]], requires_grad=True),\n",
       " Parameter containing:\n",
       " tensor([-0.9737], requires_grad=True)]"
      ]
     },
     "execution_count": 49,
     "metadata": {},
     "output_type": "execute_result"
    }
   ],
   "source": [
    "list(net.parameters())"
   ]
  },
  {
   "cell_type": "code",
   "execution_count": 50,
   "id": "17e571b5-16ba-4265-9b9a-675a6c9c7751",
   "metadata": {},
   "outputs": [
    {
     "data": {
      "text/plain": [
       "[<matplotlib.lines.Line2D at 0x2208747eee0>]"
      ]
     },
     "execution_count": 50,
     "metadata": {},
     "output_type": "execute_result"
    },
    {
     "data": {
      "image/png": "[encoded data removed]",
      "text/plain": [
       "<Figure size 432x288 with 1 Axes>"
      ]
     },
     "metadata": {
      "needs_background": "light"
     },
     "output_type": "display_data"
    }
   ],
   "source": [
    "plt.scatter(X,y,alpha=0.01)\n",
    "plt.plot(X,net(X).data,'--')\n",
    "plt.plot(X,v,'--r')"
   ]
  },
  {
   "cell_type": "code",
   "execution_count": null,
   "id": "6751b9e9-6ea0-491c-850b-831dde350830",
   "metadata": {},
   "outputs": [],
   "source": []
  }
 ],
 "metadata": {
  "kernelspec": {
   "display_name": "Python 3 (ipykernel)",
   "language": "python",
   "name": "python3"
  },
  "language_info": {
   "codemirror_mode": {
    "name": "ipython",
    "version": 3
   },
   "file_extension": ".py",
   "mimetype": "text/x-python",
   "name": "python",
   "nbconvert_exporter": "python",
   "pygments_lexer": "ipython3",
   "version": "3.8.11"
  }
 },
 "nbformat": 4,
 "nbformat_minor": 5
}
