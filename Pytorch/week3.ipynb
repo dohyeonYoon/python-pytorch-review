{
 "cells": [
  {
   "cell_type": "markdown",
   "id": "b25f3add-b415-4835-9db2-2ce3880a3efb",
   "metadata": {},
   "source": [
    "# (3주차) 9월15일\n",
    ">선형모형\n",
    "\n",
    "- toc:true\n",
    "- branch: master\n",
    "- badges: true\n",
    "- comments: true\n",
    "- author: 윤도현"
   ]
  },
  {
   "cell_type": "markdown",
   "id": "f76c2618-f121-4194-9be2-e02a4d50fbc2",
   "metadata": {},
   "source": [
    "# Import "
   ]
  },
  {
   "cell_type": "code",
   "execution_count": 2,
   "id": "fc32bee0-34bb-4941-ada4-7c48a086b9f7",
   "metadata": {},
   "outputs": [],
   "source": [
    "import torch \n",
    "import numpy as np \n",
    "import matplotlib.pyplot as plt"
   ]
  },
  {
   "cell_type": "markdown",
   "id": "a3740185-4217-47db-b2dc-7ff706933267",
   "metadata": {},
   "source": [
    "### Data"
   ]
  },
  {
   "cell_type": "markdown",
   "id": "26c6ff25-c850-4578-b94b-fe1dbcb7f0c4",
   "metadata": {},
   "source": [
    "`-` model: $y_i = w_0+ w_1 + x_i + \\epsilon_i = 2.5 + 4x_i + \\epsilon_i, \\quad i=1,2, \\dots, n$ "
   ]
  },
  {
   "cell_type": "markdown",
   "id": "04144b43-596a-490e-b59c-0e547439fde0",
   "metadata": {},
   "source": [
    "`-` model: ${\\bf y}= {\\bf X}{\\bf W} + \\boldsymbol{\\epsilon}$"
   ]
  },
  {
   "cell_type": "markdown",
   "id": "2211878c-4f9c-4a9c-b26e-2dc618488b98",
   "metadata": {},
   "source": [
    "`-` ${\\bf y}=\\begin{bmatrix} y_1 \\\\ y_2 \\\\ \\dots \\\\ y_n\\end{bmatrix}, \\quad {\\bf X}=\\begin{bmatrix} 1 & x_1 \\\\ 1 & x_2 \\\\ \\dots \\\\1& x_n\\end{bmatrix}, \\quad {\\bf W}=\\begin{bmatrix}  2.5 \\\\ 4 \\end{bmatrix}, \\boldsymbol{\\epsilon} =\\begin{bmatrix} \\epsilon_1 \\\\ \\dots \\\\ \\epsilon_n \\end{bmatrix}$"
   ]
  },
  {
   "cell_type": "code",
   "execution_count": 36,
   "id": "143d7de0-ea7c-4ad3-ad43-c250106348bc",
   "metadata": {},
   "outputs": [],
   "source": [
    "torch.manual_seed(1)\n",
    "n= 100 \n",
    "ones= torch.ones(n)\n",
    "x,_= torch.randn(n).sort()\n",
    "X = torch.vstack([ones,x]).T\n",
    "W = torch.tensor([2.5,4])\n",
    "ϵ = torch.randn(n)*0.5\n",
    "y= X@W +ϵ\n",
    "ytrue= X@W"
   ]
  },
  {
   "cell_type": "code",
   "execution_count": 38,
   "id": "a45d9e82-9198-4a53-a255-4d5d03b5369e",
   "metadata": {},
   "outputs": [
    {
     "data": {
      "text/plain": [
       "[<matplotlib.lines.Line2D at 0x27f1f117640>]"
      ]
     },
     "execution_count": 38,
     "metadata": {},
     "output_type": "execute_result"
    },
    {
     "data": {
      "image/png": "[encoded data removed]",
      "text/plain": [
       "<Figure size 432x288 with 1 Axes>"
      ]
     },
     "metadata": {
      "needs_background": "light"
     },
     "output_type": "display_data"
    }
   ],
   "source": [
    "plt.plot(x,y,'o')\n",
    "plt.plot(x,ytrue,'-')"
   ]
  },
  {
   "cell_type": "markdown",
   "id": "9065ba4a-d7bd-4c92-9fd1-06ed62eccd3e",
   "metadata": {},
   "source": [
    "# 학습이란?"
   ]
  },
  {
   "cell_type": "markdown",
   "id": "f96988d0-7e78-41cb-95ff-450137317640",
   "metadata": {},
   "source": [
    "`-` 파란점만 주어졌을 때, 주황색 점선을 추론하는것.\n",
    "\n",
    "`-` 주어진 데이터로 $\\begin{bmatrix} \\hat{w}_0 \\\\ \\hat{w}_1 \\end{bmatrix}$를 최대한\n",
    "\n",
    "$\\begin{bmatrix} 2.5 \\\\ 4 \\end{bmatirx}$와 비슷하게 만드는 것"
   ]
  },
  {
   "cell_type": "markdown",
   "id": "644143ef-abe5-456d-b222-99648a59fa9a",
   "metadata": {},
   "source": [
    "- 주어진 데이터 : $\\big\\{(x_i,y_i) \\big\\}_{i=1}^{n}$\n",
    "\n",
    "- 파라미터 : ${\\bf W}= \\begin{bmatrix} w_0 \\\\ w_1 \\end{bmatrix}  $\n",
    "\n",
    "- 파라미터 추정값 : ${\\bf \\hat{W}}= \\begin{bmatrix} \\hat{w_0} \\\\ \\hat{w_1} \\end{bmatrix}  $"
   ]
  },
  {
   "cell_type": "markdown",
   "id": "3c75e421-c9e0-48b4-8bcc-08d3ee7e0c61",
   "metadata": {},
   "source": [
    "`-` 더 쉽게 말하면 아래의 그림을 보고 적당한 추세선을 찾는 것이다."
   ]
  },
  {
   "cell_type": "code",
   "execution_count": 40,
   "id": "10524885-1f71-43c3-a117-1b2f5ed5c8ae",
   "metadata": {},
   "outputs": [
    {
     "data": {
      "text/plain": [
       "[<matplotlib.lines.Line2D at 0x27f1f17a5b0>]"
      ]
     },
     "execution_count": 40,
     "metadata": {},
     "output_type": "execute_result"
    },
    {
     "data": {
      "image/png": "[encoded data removed]",
      "text/plain": [
       "<Figure size 432x288 with 1 Axes>"
      ]
     },
     "metadata": {
      "needs_background": "light"
     },
     "output_type": "display_data"
    }
   ],
   "source": [
    "plt.plot(x,y,'o')"
   ]
  },
  {
   "cell_type": "markdown",
   "id": "f408c12a-fdef-464e-9a1c-aa57ff383d17",
   "metadata": {},
   "source": [
    "`-` 시도 : $(\\hat{w}_0, \\hat{w}_1)= (-5,10)$을 선택하여 선을 그려보고 적당한지 판단"
   ]
  },
  {
   "cell_type": "markdown",
   "id": "32212410-29fc-4b56-ba2f-eb9c751afd63",
   "metadata": {},
   "source": [
    "`-` $\\hat{y}_1= -5+10 x_i$ 와 같이 $y_i$의 값을 적합시키겠다는 의미"
   ]
  },
  {
   "cell_type": "code",
   "execution_count": 47,
   "id": "30d83bdc-ee92-42bc-9281-5a3fa38aef6b",
   "metadata": {},
   "outputs": [
    {
     "data": {
      "text/plain": [
       "[<matplotlib.lines.Line2D at 0x27f23b236a0>]"
      ]
     },
     "execution_count": 47,
     "metadata": {},
     "output_type": "execute_result"
    },
    {
     "data": {
      "image/png": "[encoded data removed]",
      "text/plain": [
       "<Figure size 432x288 with 1 Axes>"
      ]
     },
     "metadata": {
      "needs_background": "light"
     },
     "output_type": "display_data"
    }
   ],
   "source": [
    "plt.plot(x,y,'o')\n",
    "plt.plot(x,-5+10*x,'--')"
   ]
  },
  {
   "cell_type": "markdown",
   "id": "5216b82d-1072-413e-8114-464f82a0e938",
   "metadata": {},
   "source": [
    "`-` 벡터 표현으로 주황색 선을 계산"
   ]
  },
  {
   "cell_type": "code",
   "execution_count": 48,
   "id": "27481339-6004-4233-bcd8-e31131782233",
   "metadata": {},
   "outputs": [
    {
     "data": {
      "text/plain": [
       "[<matplotlib.lines.Line2D at 0x27f23b49700>]"
      ]
     },
     "execution_count": 48,
     "metadata": {},
     "output_type": "execute_result"
    },
    {
     "data": {
      "image/png": "[encoded data removed]",
      "text/plain": [
       "<Figure size 432x288 with 1 Axes>"
      ]
     },
     "metadata": {
      "needs_background": "light"
     },
     "output_type": "display_data"
    }
   ],
   "source": [
    "what= torch.tensor([-5.0,10.0])\n",
    "plt.plot(x,y,'o')\n",
    "plt.plot(x,X@what,'--')"
   ]
  },
  {
   "cell_type": "markdown",
   "id": "6d9b50cd-b4d6-4846-9802-98c412329be7",
   "metadata": {},
   "source": [
    "### 파라미터 학습하는 방법(적당한 선으로 업데이트하는 방법)"
   ]
  },
  {
   "cell_type": "markdown",
   "id": "4bb2f5c0-a3bd-4777-8a06-99824c7b2fe0",
   "metadata": {},
   "source": [
    "`-` **컴퓨터의 반복계산을 통해 추론 (경사하강법)**"
   ]
  },
  {
   "cell_type": "markdown",
   "id": "9a170ba3-78d6-492a-8137-a5e635969e8c",
   "metadata": {},
   "source": [
    "### (1) initial value: 임의의 선을 일단 그어본다.\n"
   ]
  },
  {
   "cell_type": "code",
   "execution_count": 53,
   "id": "8a454ad0-e84b-442d-a534-0f1982058f48",
   "metadata": {},
   "outputs": [],
   "source": [
    "What= torch.tensor([-5.0,10.0],requires_grad=True)"
   ]
  },
  {
   "cell_type": "code",
   "execution_count": 54,
   "id": "13819e8d-9871-46e9-92b5-0fe764c468f6",
   "metadata": {},
   "outputs": [
    {
     "data": {
      "text/plain": [
       "tensor([-5., 10.], requires_grad=True)"
      ]
     },
     "execution_count": 54,
     "metadata": {},
     "output_type": "execute_result"
    }
   ],
   "source": [
    "What"
   ]
  },
  {
   "cell_type": "markdown",
   "id": "f0127754-0815-4670-821d-00109c772867",
   "metadata": {},
   "source": [
    "- 처음에는 ${\\bf \\hat{W}}=\\begin{bmatrix} \\hat{W}_0 \\\\ \\hat{W}_1 \\end{bmatrix}= \\begin{bmatrix} -5 \\\\ 10 \\end{bmatrix}$ 를 대입해서 주황색 점선을 적당히 그려보자는 의미\n",
    "\n",
    "- 끝에 requires_grad=True는 나중에 미분을 위한 것"
   ]
  },
  {
   "cell_type": "code",
   "execution_count": 55,
   "id": "1586f1df-46f3-46f2-8a03-49d6e0c9a46c",
   "metadata": {},
   "outputs": [],
   "source": [
    "yhat = X@What"
   ]
  },
  {
   "cell_type": "code",
   "execution_count": 63,
   "id": "c20cccac-6e82-4afb-ac22-97fa71f0c95e",
   "metadata": {},
   "outputs": [
    {
     "data": {
      "text/plain": [
       "tensor([-38.3115, -30.8321, -27.4556, -26.0208, -21.0948, -21.0910, -20.2560,\n",
       "        -19.7823, -19.4646, -16.6076, -16.3342, -15.7028, -15.3734, -15.2333,\n",
       "        -15.0553, -14.9624, -14.8228, -14.7977, -14.2758, -14.2739, -13.7426,\n",
       "        -13.6959, -13.3126, -13.1385, -12.9807, -12.7731, -12.7345, -12.5023,\n",
       "        -12.4787, -12.1214, -12.0396, -11.9697, -11.6291, -11.5398, -11.5397,\n",
       "        -11.4464, -11.2985, -11.2002, -11.1774, -11.0919, -10.9619, -10.6008,\n",
       "        -10.0649,  -9.7568,  -9.6102,  -9.3704,  -7.5146,  -7.2227,  -7.1061,\n",
       "         -6.8600,  -6.8527,  -6.7594,  -6.5785,  -6.3162,  -6.1102,  -6.0103,\n",
       "         -6.0017,  -5.7213,  -5.2879,  -5.2550,  -5.0755,  -4.8966,  -4.5430,\n",
       "         -4.3884,  -4.3372,  -4.0022,  -3.6259,  -3.4704,  -3.4223,  -3.0618,\n",
       "         -3.0094,  -3.0092,  -2.7157,  -2.5560,  -2.0726,  -1.9628,  -1.5665,\n",
       "         -1.0442,  -0.5849,  -0.3236,   0.4514,   1.1554,   1.9954,   2.3169,\n",
       "          2.6260,   3.0731,   3.5394,   3.6569,   4.3864,   6.0168,   6.1196,\n",
       "          6.6514,   8.8515,  10.3925,  10.7480,  11.7343,  11.8711,  13.7935,\n",
       "         15.1539,  18.5711], grad_fn=<MvBackward>)"
      ]
     },
     "execution_count": 63,
     "metadata": {},
     "output_type": "execute_result"
    }
   ],
   "source": [
    "yhat"
   ]
  },
  {
   "cell_type": "code",
   "execution_count": 62,
   "id": "86d93bba-af3a-42ed-840f-842daa8b9a1a",
   "metadata": {},
   "outputs": [
    {
     "data": {
      "text/plain": [
       "[<matplotlib.lines.Line2D at 0x27f2487c3d0>]"
      ]
     },
     "execution_count": 62,
     "metadata": {},
     "output_type": "execute_result"
    },
    {
     "data": {
      "image/png": "[encoded data removed]",
      "text/plain": [
       "<Figure size 432x288 with 1 Axes>"
      ]
     },
     "metadata": {
      "needs_background": "light"
     },
     "output_type": "display_data"
    }
   ],
   "source": [
    "plt.plot(x,y,'o')\n",
    "plt.plot(x,yhat.data,'--')"
   ]
  },
  {
   "cell_type": "markdown",
   "id": "f900bfd9-9a7f-44fa-8ead-23392c9a4184",
   "metadata": {},
   "source": [
    "### (2) 첫번째 수정: 적당한 선의 적당한 정도를 판단하고 더 적당한 선으로 업데이트"
   ]
  },
  {
   "cell_type": "markdown",
   "id": "a01635d0-bf9e-4183-85d7-b4efa864d419",
   "metadata": {},
   "source": [
    "`-` 적당한 정도를 알기 위해 loss function 도입!! \n",
    "\n",
    "`-` $loss= \\sum_{i=1}^{n}(y_i - \\hat{y}_i)^2 = \\sum_{i=1}^{n}(y_i - (\\hat{w}_0+\\hat{w}_1x_i))^2$\n",
    "  \n",
    "  $ = ({\\bf y}-{\\bf \\hat{y}})^\\top({\\bf y}-{\\bf \\hat{y}}) = ({\\bf y}-{\\bf X\\hat{W}})^\\top({\\bf y}-{\\bf X\\hat{W}})$ \n",
    "\n",
    "`-` loss 함수의 특징\n",
    "\n",
    "`-` $y_i \\approx \\hat{y}_i$ 일수록 loss 값이 작다\n",
    "\n",
    "`-` $y_i \\approx \\hat{y}_i$ 이 되도록 $(\\hat{w}_0, \\hat{w}_1)$을 잘 찍으면 loss값이 작다.\n",
    "\n",
    "`-` (중요) 주황색 점선이 '적당' 할수록 loss값이 작다"
   ]
  },
  {
   "cell_type": "code",
   "execution_count": 65,
   "id": "8ee5ba71-8e99-4e94-807d-24006d41b127",
   "metadata": {},
   "outputs": [
    {
     "data": {
      "text/plain": [
       "tensor(11094.6221, grad_fn=<DotBackward>)"
      ]
     },
     "execution_count": 65,
     "metadata": {},
     "output_type": "execute_result"
    }
   ],
   "source": [
    "#What= torch.tensor([-5.0,10.0],requires_grad=True)\n",
    "#What\n",
    "loss= (y-yhat)@(y-yhat) #내적\n",
    "loss"
   ]
  },
  {
   "cell_type": "code",
   "execution_count": 68,
   "id": "f0f76840-d6a4-4dc5-9408-7c9ed67043a7",
   "metadata": {},
   "outputs": [
    {
     "data": {
      "text/plain": [
       "tensor(11094.6221, grad_fn=<SumBackward0>)"
      ]
     },
     "execution_count": 68,
     "metadata": {},
     "output_type": "execute_result"
    }
   ],
   "source": [
    "loss= torch.sum((y-yhat)**2) #제곱해서 합\n",
    "loss"
   ]
  },
  {
   "cell_type": "code",
   "execution_count": null,
   "id": "dff027fa-16eb-4f62-a8e6-ec5614ab69da",
   "metadata": {},
   "outputs": [],
   "source": []
  }
 ],
 "metadata": {
  "kernelspec": {
   "display_name": "Python 3 (ipykernel)",
   "language": "python",
   "name": "python3"
  },
  "language_info": {
   "codemirror_mode": {
    "name": "ipython",
    "version": 3
   },
   "file_extension": ".py",
   "mimetype": "text/x-python",
   "name": "python",
   "nbconvert_exporter": "python",
   "pygments_lexer": "ipython3",
   "version": "3.8.11"
  }
 },
 "nbformat": 4,
 "nbformat_minor": 5
}
