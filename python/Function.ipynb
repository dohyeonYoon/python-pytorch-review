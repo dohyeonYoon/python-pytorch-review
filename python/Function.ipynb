{
  "nbformat": 4,
  "nbformat_minor": 0,
  "metadata": {
    "colab": {
      "name": "Function.ipynb",
      "provenance": [],
      "collapsed_sections": [],
      "authorship_tag": "ABX9TyNGzxO0E1nO9CEWZ7ySiaiD",
      "include_colab_link": true
    },
    "kernelspec": {
      "name": "python3",
      "display_name": "Python 3"
    },
    "language_info": {
      "name": "python"
    }
  },
  "cells": [
    {
      "cell_type": "markdown",
      "metadata": {
        "id": "view-in-github",
        "colab_type": "text"
      },
      "source": [
        "<a href=\"https://colab.research.google.com/github/dohyeonYoon/python-review/blob/main/Function.ipynb\" target=\"_parent\"><img src=\"https://colab.research.google.com/assets/colab-badge.svg\" alt=\"Open In Colab\"/></a>"
      ]
    },
    {
      "cell_type": "markdown",
      "metadata": {
        "id": "gDNlcjW8ZduZ"
      },
      "source": [
        "# 3강. 함수"
      ]
    },
    {
      "cell_type": "code",
      "metadata": {
        "id": "OJIhztakZaM8"
      },
      "source": [
        "import numpy as np "
      ],
      "execution_count": null,
      "outputs": []
    },
    {
      "cell_type": "markdown",
      "metadata": {
        "id": "pwt7g45kZjDY"
      },
      "source": [
        "# 3.1 음수 개수 판독기"
      ]
    },
    {
      "cell_type": "code",
      "metadata": {
        "id": "LfWBq5wYZihJ"
      },
      "source": [
        "def negative(arr): \n",
        "  #하나의 배열안에 음수 원소가 몇개 있는지 판별하는 함수\n",
        "  \n",
        "  count = len(np.where(arr<0)[0]) #np.where(arr <0) -> array([1,2,3,4])\n",
        "  print(f\" 해당 배열 안에는 음수가 {count}개 있습니다.\")"
      ],
      "execution_count": null,
      "outputs": []
    },
    {
      "cell_type": "code",
      "metadata": {
        "id": "_Psv5MGxaSag"
      },
      "source": [
        "arr1 = np.array([0,-2,-3,-5,-6])\n",
        "arr2 = np.array([0,2,3,5,6])"
      ],
      "execution_count": null,
      "outputs": []
    },
    {
      "cell_type": "code",
      "metadata": {
        "colab": {
          "base_uri": "https://localhost:8080/"
        },
        "id": "OL6cjP-gabEQ",
        "outputId": "8de82caa-fa50-44c3-ee8b-5a35e740b54e"
      },
      "source": [
        "negative(arr1)\n",
        "negative(arr2)"
      ],
      "execution_count": null,
      "outputs": [
        {
          "output_type": "stream",
          "text": [
            " 해당 배열 안에는 음수가 4개 있습니다.\n",
            " 해당 배열 안에는 음수가 0개 있습니다.\n"
          ],
          "name": "stdout"
        }
      ]
    },
    {
      "cell_type": "markdown",
      "metadata": {
        "id": "o0eecu2uGJs4"
      },
      "source": [
        "# 3.2 목적 함수 정의"
      ]
    },
    {
      "cell_type": "code",
      "metadata": {
        "id": "W18ahW8Faef4"
      },
      "source": [
        "def objective_function(x):\n",
        "  return np.sin(x)+np.cos(x)+.5*np.exp(x)"
      ],
      "execution_count": null,
      "outputs": []
    },
    {
      "cell_type": "code",
      "metadata": {
        "id": "YDN-i21pHM7n"
      },
      "source": [
        "y1= objective_function(arr1)\n",
        "y2= objective_function(arr2)\n"
      ],
      "execution_count": null,
      "outputs": []
    },
    {
      "cell_type": "code",
      "metadata": {
        "colab": {
          "base_uri": "https://localhost:8080/"
        },
        "id": "FkFqB4mJHTO_",
        "outputId": "dfbd8dc1-82f3-4dd8-8f27-03608f5a3cb4"
      },
      "source": [
        "print(y1)\n",
        "print(y2)"
      ],
      "execution_count": null,
      "outputs": [
        {
          "output_type": "stream",
          "text": [
            "[ 1.5        -1.25777662 -1.10621897  1.24595543  1.24082516]\n",
            "[  1.5          4.18767864   9.19389597  73.53131746 202.39515153]\n"
          ],
          "name": "stdout"
        }
      ]
    },
    {
      "cell_type": "markdown",
      "metadata": {
        "id": "nQeGNMMPHssG"
      },
      "source": [
        "## 3.3 데이터 요약"
      ]
    },
    {
      "cell_type": "code",
      "metadata": {
        "id": "Ybgyl19QHYme"
      },
      "source": [
        "#테이블형 데이터\n",
        "#각 열의 평균\n",
        "#각 열의 표준편차\n",
        "#각 열의 최댓값\n",
        "#각 열의 최솟값\n",
        "#이상치 갯수 확인\n",
        "# ....\n",
        "\n",
        "def data_description(data):\n",
        "\n",
        "  cmax = np.max(data,axis=0)\n",
        "  cmin = np.min(data,axis=0)\n",
        "  cmean = np.mean(data,axis=0)\n",
        "  cstd = np.std(data,axis=0) #표준편차\n",
        "  outlier_idx = np.where(data[:,4]>100)[0]\n",
        "  outlier = len(outlier_idx)\n",
        "\n",
        "  print(f\"인스턴스 개수는 {data.shape[0]}이고 변수의 개수는 {data.shape[1]}입니다.\")\n",
        "  print(f\"x5 변수에 대한 이상치는 {outlier}개 입니다.\")\n",
        "\n",
        "  return cmax,cmin, cmean, cstd"
      ],
      "execution_count": null,
      "outputs": []
    },
    {
      "cell_type": "code",
      "metadata": {
        "id": "ZjB1G7D9JFAI"
      },
      "source": [
        "data1 = np.random.randint(0,105, size=(100,20))\n",
        "data2 = np.random.randint(0,105, size=(50,40))"
      ],
      "execution_count": null,
      "outputs": []
    },
    {
      "cell_type": "code",
      "metadata": {
        "colab": {
          "base_uri": "https://localhost:8080/"
        },
        "id": "_uBFXb8hJPqG",
        "outputId": "8aba003e-74e9-4f8b-9d3c-55aed91adbb0"
      },
      "source": [
        "cmax1, cmin1, cmean1, cstd1 = data_description(data1)"
      ],
      "execution_count": null,
      "outputs": [
        {
          "output_type": "stream",
          "text": [
            "인스턴스 개수는 100이고 변수의 개수는 20입니다.\n",
            "x5 변수에 대한 이상치는 3개 입니다.\n"
          ],
          "name": "stdout"
        }
      ]
    },
    {
      "cell_type": "markdown",
      "metadata": {
        "id": "Wwdiyq5QJ5p2"
      },
      "source": [
        "# 3.4 예제"
      ]
    },
    {
      "cell_type": "code",
      "metadata": {
        "id": "q3D_q73kJiIG"
      },
      "source": [
        "#구구단 함수 \n",
        "def gugudan(number):\n",
        "  for i in range(1,10):\n",
        "    print(f\"{number}x {i} = {number * i} 입니다.\")"
      ],
      "execution_count": null,
      "outputs": []
    },
    {
      "cell_type": "code",
      "metadata": {
        "colab": {
          "base_uri": "https://localhost:8080/"
        },
        "id": "xL8BaEPKKgeH",
        "outputId": "d7ec3cd0-b590-48b5-a7ad-2208c93b6928"
      },
      "source": [
        "print(gugudan(1))\n",
        "print(gugudan(7))"
      ],
      "execution_count": null,
      "outputs": [
        {
          "output_type": "stream",
          "text": [
            "1x 1 = 1 입니다.\n",
            "1x 2 = 2 입니다.\n",
            "1x 3 = 3 입니다.\n",
            "1x 4 = 4 입니다.\n",
            "1x 5 = 5 입니다.\n",
            "1x 6 = 6 입니다.\n",
            "1x 7 = 7 입니다.\n",
            "1x 8 = 8 입니다.\n",
            "1x 9 = 9 입니다.\n",
            "None\n",
            "7x 1 = 7 입니다.\n",
            "7x 2 = 14 입니다.\n",
            "7x 3 = 21 입니다.\n",
            "7x 4 = 28 입니다.\n",
            "7x 5 = 35 입니다.\n",
            "7x 6 = 42 입니다.\n",
            "7x 7 = 49 입니다.\n",
            "7x 8 = 56 입니다.\n",
            "7x 9 = 63 입니다.\n",
            "None\n"
          ],
          "name": "stdout"
        }
      ]
    }
  ]
}