{
  "nbformat": 4,
  "nbformat_minor": 0,
  "metadata": {
    "colab": {
      "name": "For and While loop.ipynb",
      "provenance": [],
      "collapsed_sections": [],
      "toc_visible": true,
      "authorship_tag": "ABX9TyPD97fn+6ylqynNDUk6g5LB",
      "include_colab_link": true
    },
    "kernelspec": {
      "name": "python3",
      "display_name": "Python 3"
    },
    "language_info": {
      "name": "python"
    }
  },
  "cells": [
    {
      "cell_type": "markdown",
      "metadata": {
        "id": "view-in-github",
        "colab_type": "text"
      },
      "source": [
        "<a href=\"https://colab.research.google.com/github/dohyeonYoon/python-review/blob/main/For_and_While_loop.ipynb\" target=\"_parent\"><img src=\"https://colab.research.google.com/assets/colab-badge.svg\" alt=\"Open In Colab\"/></a>"
      ]
    },
    {
      "cell_type": "markdown",
      "metadata": {
        "id": "BF-JJ4og99Uq"
      },
      "source": [
        "# 2강. 조건문, 반복문"
      ]
    },
    {
      "cell_type": "markdown",
      "metadata": {
        "id": "mnmUfRNI-S0x"
      },
      "source": [
        "# 2.1 조건문"
      ]
    },
    {
      "cell_type": "code",
      "metadata": {
        "id": "lzPLIzNP96C8"
      },
      "source": [
        "import numpy as np "
      ],
      "execution_count": null,
      "outputs": []
    },
    {
      "cell_type": "markdown",
      "metadata": {
        "id": "7kyp8MZJ-Mkp"
      },
      "source": [
        "**2.1 조건문**"
      ]
    },
    {
      "cell_type": "code",
      "metadata": {
        "id": "BFd_XLEB-Egx",
        "colab": {
          "base_uri": "https://localhost:8080/"
        },
        "outputId": "f1d5e685-55dc-47c8-eee0-d278f0532f34"
      },
      "source": [
        "x= 10\n",
        "\n",
        "if x ==1: \n",
        "  print('x는 1이다')\n",
        "else: \n",
        "  print('x는 1이 아니다')"
      ],
      "execution_count": null,
      "outputs": [
        {
          "output_type": "stream",
          "text": [
            "x는 1이 아니다\n"
          ],
          "name": "stdout"
        }
      ]
    },
    {
      "cell_type": "code",
      "metadata": {
        "colab": {
          "base_uri": "https://localhost:8080/"
        },
        "id": "44Jyaq-p-oNJ",
        "outputId": "77bdd611-2b0e-4426-fa46-f114a83d04b5"
      },
      "source": [
        "x= 10\n",
        "\n",
        "if x == 1:\n",
        "  print(\"x는 1입니다\")\n",
        "elif x ==2: \n",
        "  print(\"x는 2입니다\")\n",
        "elif x ==3:\n",
        "  print(\"x는 3입니다\")\n",
        "else: \n",
        "  print(\"x는 1,2,3이 아닙니다\")"
      ],
      "execution_count": null,
      "outputs": [
        {
          "output_type": "stream",
          "text": [
            "x는 1,2,3이 아닙니다\n"
          ],
          "name": "stdout"
        }
      ]
    },
    {
      "cell_type": "markdown",
      "metadata": {
        "id": "19a4mhPz_H4I"
      },
      "source": [
        "#2.2 반복문"
      ]
    },
    {
      "cell_type": "code",
      "metadata": {
        "colab": {
          "base_uri": "https://localhost:8080/"
        },
        "id": "_RGiqnF8-9AB",
        "outputId": "4d570959-91fd-40fc-f35e-78afdf23af51"
      },
      "source": [
        "for i in range(5):\n",
        "  print(i)"
      ],
      "execution_count": null,
      "outputs": [
        {
          "output_type": "stream",
          "text": [
            "0\n",
            "1\n",
            "2\n",
            "3\n",
            "4\n"
          ],
          "name": "stdout"
        }
      ]
    },
    {
      "cell_type": "code",
      "metadata": {
        "colab": {
          "base_uri": "https://localhost:8080/"
        },
        "id": "OIUeHFjbXKG3",
        "outputId": "b4c6ed6a-76ac-47f2-e066-a1e28d357e22"
      },
      "source": [
        "i=0\n",
        "while i<5:\n",
        "  print(i)\n",
        "  i+=1"
      ],
      "execution_count": null,
      "outputs": [
        {
          "output_type": "stream",
          "text": [
            "0\n",
            "1\n",
            "2\n",
            "3\n",
            "4\n"
          ],
          "name": "stdout"
        }
      ]
    },
    {
      "cell_type": "code",
      "metadata": {
        "colab": {
          "base_uri": "https://localhost:8080/"
        },
        "id": "I8K1xhehXXeo",
        "outputId": "a96404f7-07a5-4eb7-efaf-9d5e70fe6185"
      },
      "source": [
        "f= np.random.randint(10,size=(10,3))\n",
        "print(f)"
      ],
      "execution_count": null,
      "outputs": [
        {
          "output_type": "stream",
          "text": [
            "[[5 5 4]\n",
            " [5 0 8]\n",
            " [9 2 0]\n",
            " [0 0 3]\n",
            " [0 4 3]\n",
            " [3 5 6]\n",
            " [8 3 9]\n",
            " [4 8 7]\n",
            " [7 4 9]\n",
            " [1 9 2]]\n"
          ],
          "name": "stdout"
        }
      ]
    },
    {
      "cell_type": "markdown",
      "metadata": {
        "id": "vuX7uKZvYHVx"
      },
      "source": [
        "**2.3.2 break 문**"
      ]
    },
    {
      "cell_type": "code",
      "metadata": {
        "id": "MYvHdCRNXvBp"
      },
      "source": [
        "pending =[1,3,5,3,8,1,4,5]\n"
      ],
      "execution_count": null,
      "outputs": []
    },
    {
      "cell_type": "code",
      "metadata": {
        "colab": {
          "base_uri": "https://localhost:8080/"
        },
        "id": "aV8ehjudYX7A",
        "outputId": "15b403e4-4db2-4561-93a7-597b27e575e1"
      },
      "source": [
        "# 짝수가 나오면 종료 \n",
        "for i in pending:\n",
        "  if i %2 ==0:\n",
        "    print(i,'입니다.' )\n",
        "    break"
      ],
      "execution_count": null,
      "outputs": [
        {
          "output_type": "stream",
          "text": [
            "8 입니다.\n"
          ],
          "name": "stdout"
        }
      ]
    },
    {
      "cell_type": "markdown",
      "metadata": {
        "id": "4kcHTu4HYu6x"
      },
      "source": [
        "**2.3.3 try-except문**"
      ]
    },
    {
      "cell_type": "code",
      "metadata": {
        "colab": {
          "base_uri": "https://localhost:8080/",
          "height": 280
        },
        "id": "mc62Pvq3YlGR",
        "outputId": "2958b7c7-ad6f-49d5-f94f-197e45342407"
      },
      "source": [
        "x = [1,2,3,'s',4,5]\n",
        "\n",
        "for i in x:\n",
        "  y= i+1 \n",
        "  print(y)"
      ],
      "execution_count": null,
      "outputs": [
        {
          "output_type": "stream",
          "text": [
            "2\n",
            "3\n",
            "4\n"
          ],
          "name": "stdout"
        },
        {
          "output_type": "error",
          "ename": "TypeError",
          "evalue": "ignored",
          "traceback": [
            "\u001b[0;31m---------------------------------------------------------------------------\u001b[0m",
            "\u001b[0;31mTypeError\u001b[0m                                 Traceback (most recent call last)",
            "\u001b[0;32m<ipython-input-14-c49e538ea487>\u001b[0m in \u001b[0;36m<module>\u001b[0;34m()\u001b[0m\n\u001b[1;32m      2\u001b[0m \u001b[0;34m\u001b[0m\u001b[0m\n\u001b[1;32m      3\u001b[0m \u001b[0;32mfor\u001b[0m \u001b[0mi\u001b[0m \u001b[0;32min\u001b[0m \u001b[0mx\u001b[0m\u001b[0;34m:\u001b[0m\u001b[0;34m\u001b[0m\u001b[0;34m\u001b[0m\u001b[0m\n\u001b[0;32m----> 4\u001b[0;31m   \u001b[0my\u001b[0m\u001b[0;34m=\u001b[0m \u001b[0mi\u001b[0m\u001b[0;34m+\u001b[0m\u001b[0;36m1\u001b[0m\u001b[0;34m\u001b[0m\u001b[0;34m\u001b[0m\u001b[0m\n\u001b[0m\u001b[1;32m      5\u001b[0m   \u001b[0mprint\u001b[0m\u001b[0;34m(\u001b[0m\u001b[0my\u001b[0m\u001b[0;34m)\u001b[0m\u001b[0;34m\u001b[0m\u001b[0;34m\u001b[0m\u001b[0m\n",
            "\u001b[0;31mTypeError\u001b[0m: can only concatenate str (not \"int\") to str"
          ]
        }
      ]
    },
    {
      "cell_type": "code",
      "metadata": {
        "colab": {
          "base_uri": "https://localhost:8080/"
        },
        "id": "Dqi9Zis8Y9kB",
        "outputId": "459f79c5-d9f1-4665-d27f-95e5adf868f1"
      },
      "source": [
        "x= [1,2,3,'s',4,5]\n",
        "\n",
        "for i in x:\n",
        "  try: \n",
        "    y= i+1\n",
        "    print(y)\n",
        "  except:\n",
        "    print(i, \"는 오류입니다\")"
      ],
      "execution_count": null,
      "outputs": [
        {
          "output_type": "stream",
          "text": [
            "2\n",
            "3\n",
            "4\n",
            "s 는 오류입니다\n",
            "5\n",
            "6\n"
          ],
          "name": "stdout"
        }
      ]
    },
    {
      "cell_type": "code",
      "metadata": {
        "id": "pRD5GItYZRCJ"
      },
      "source": [
        ""
      ],
      "execution_count": null,
      "outputs": []
    }
  ]
}