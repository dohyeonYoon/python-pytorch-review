{
  "nbformat": 4,
  "nbformat_minor": 0,
  "metadata": {
    "colab": {
      "name": "Class.ipynb",
      "provenance": [],
      "collapsed_sections": [],
      "authorship_tag": "ABX9TyMxfX7HQE/oEBogr5bi0SQ1",
      "include_colab_link": true
    },
    "kernelspec": {
      "name": "python3",
      "display_name": "Python 3"
    },
    "language_info": {
      "name": "python"
    }
  },
  "cells": [
    {
      "cell_type": "markdown",
      "metadata": {
        "id": "view-in-github",
        "colab_type": "text"
      },
      "source": [
        "<a href=\"https://colab.research.google.com/github/dohyeonYoon/python-review/blob/main/Class.ipynb\" target=\"_parent\"><img src=\"https://colab.research.google.com/assets/colab-badge.svg\" alt=\"Open In Colab\"/></a>"
      ]
    },
    {
      "cell_type": "markdown",
      "metadata": {
        "id": "pgPXzzo4OhVV"
      },
      "source": [
        "# 5강. 클래스"
      ]
    },
    {
      "cell_type": "markdown",
      "metadata": {
        "id": "ho9JahDQOo3U"
      },
      "source": [
        "클래스란 어떤 하나의 기능을 구현하는데 여러 개의 함수가 필요할때\n",
        "\n",
        "여러 함수들을 묶어서 구현하는것을 말한다. \n",
        "\n",
        "즉, 함수들의 모임! "
      ]
    },
    {
      "cell_type": "code",
      "metadata": {
        "id": "rgagq4A3Ooht"
      },
      "source": [
        "import numpy as np\n",
        "from matplotlib import pyplot as plt"
      ],
      "execution_count": null,
      "outputs": []
    },
    {
      "cell_type": "code",
      "metadata": {
        "id": "dh54ggm_Og1Z"
      },
      "source": [
        "data =np.random.randint(0,10, (100,1)) #평균 0 표준편차 1인 100x1 행렬 \n",
        "target = np.random.randint(0,1,100) #평균 0 표준편차 1인 100개 샘플"
      ],
      "execution_count": null,
      "outputs": []
    },
    {
      "cell_type": "code",
      "metadata": {
        "id": "Eo3sWPUDX0x0"
      },
      "source": [
        "#class 안에있는 함수는 self라는 변수를 적어주어야 한다. \n",
        "class LinearRegression: \n",
        "\n",
        "  def __init__(self, data, target, scaling=False): #init을 통해 class 외부의 값을 받을 수 있다.\n",
        "    self.data = data\n",
        "    self.target = target\n",
        "    self.num_instance = self.data.shape[0]\n",
        "    self.num_feature = self.data.shape[1]\n",
        "    self.scaling= scaling\n",
        "    print(f\"num_instance ={self.num_instance}개 이고 num_feature = {self.num_feature}개 이다.\")\n",
        "  \n",
        "  def minmax(self):                             #0과 1사이값으로 변환\n",
        "    for i in range(self.num_feature):\n",
        "      col = self.data[:,i]\n",
        "      self.data[:,i] = (self.data[:,i]-np.min(col))/(np.max(col)-np.min(col))\n",
        "\n",
        "    return self\n",
        "\n",
        "  \n",
        "  def solver(self):\n",
        "\n",
        "    if self.scaling ==True:\n",
        "      self.minmax\n",
        "    \n",
        "    # LR....\n",
        "\n",
        "    plt.plot(self.data, self.target,'.')\n",
        "    plt.show()"
      ],
      "execution_count": null,
      "outputs": []
    },
    {
      "cell_type": "code",
      "metadata": {
        "colab": {
          "base_uri": "https://localhost:8080/",
          "height": 283
        },
        "id": "74F8nFjHiPPy",
        "outputId": "85ba452b-d038-4422-d1e3-cc969260ace8"
      },
      "source": [
        "m1 = LinearRegression(data,target)\n",
        "m1.solver()"
      ],
      "execution_count": null,
      "outputs": [
        {
          "output_type": "stream",
          "text": [
            "num_instance =100개 이고 num_feature = 1개 이다.\n"
          ],
          "name": "stdout"
        },
        {
          "output_type": "display_data",
          "data": {
            "image/png": "[encoded data removed]",
            "text/plain": [
              "<Figure size 432x288 with 1 Axes>"
            ]
          },
          "metadata": {
            "tags": [],
            "needs_background": "light"
          }
        }
      ]
    },
    {
      "cell_type": "code",
      "metadata": {
        "colab": {
          "base_uri": "https://localhost:8080/",
          "height": 283
        },
        "id": "5amAmpSmifEI",
        "outputId": "809a41fa-97ea-40b5-ac66-6cc02ce1aaf1"
      },
      "source": [
        "m2= LinearRegression(data,target,scaling=False)\n",
        "m2.solver()"
      ],
      "execution_count": null,
      "outputs": [
        {
          "output_type": "stream",
          "text": [
            "num_instance =100개 이고 num_feature = 1개 이다.\n"
          ],
          "name": "stdout"
        },
        {
          "output_type": "display_data",
          "data": {
            "image/png": "[encoded data removed]",
            "text/plain": [
              "<Figure size 432x288 with 1 Axes>"
            ]
          },
          "metadata": {
            "tags": [],
            "needs_background": "light"
          }
        }
      ]
    },
    {
      "cell_type": "code",
      "metadata": {
        "id": "1dFm1DRMinpv"
      },
      "source": [
        ""
      ],
      "execution_count": null,
      "outputs": []
    }
  ]
}