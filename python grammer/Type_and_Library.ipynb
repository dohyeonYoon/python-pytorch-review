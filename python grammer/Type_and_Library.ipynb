{
  "nbformat": 4,
  "nbformat_minor": 0,
  "metadata": {
    "colab": {
      "name": "Type and Library.ipynb",
      "provenance": [],
      "collapsed_sections": [],
      "authorship_tag": "ABX9TyPrSsrxOIK6WrGgluFJI70h",
      "include_colab_link": true
    },
    "kernelspec": {
      "name": "python3",
      "display_name": "Python 3"
    },
    "language_info": {
      "name": "python"
    }
  },
  "cells": [
    {
      "cell_type": "markdown",
      "metadata": {
        "id": "view-in-github",
        "colab_type": "text"
      },
      "source": [
        "<a href=\"https://colab.research.google.com/github/dohyeonYoon/python-review/blob/main/Type_and_Library.ipynb\" target=\"_parent\"><img src=\"https://colab.research.google.com/assets/colab-badge.svg\" alt=\"Open In Colab\"/></a>"
      ]
    },
    {
      "cell_type": "markdown",
      "metadata": {
        "id": "ei5UnPSK1BG8"
      },
      "source": [
        "# 1강 타입, 라이브러리 복습!!!!!!!!"
      ]
    },
    {
      "cell_type": "markdown",
      "metadata": {
        "id": "yjibfKnn1Gur"
      },
      "source": [
        "**1.1 타입**"
      ]
    },
    {
      "cell_type": "code",
      "metadata": {
        "colab": {
          "base_uri": "https://localhost:8080/"
        },
        "id": "-DbIwt9A0y8H",
        "outputId": "9a140177-3458-4b76-e4ca-6dabbe7caac9"
      },
      "source": [
        "print(\"dohyeon Yoon!\")"
      ],
      "execution_count": null,
      "outputs": [
        {
          "output_type": "stream",
          "text": [
            "dohyeon Yoon!\n"
          ],
          "name": "stdout"
        }
      ]
    },
    {
      "cell_type": "markdown",
      "metadata": {
        "id": "nyOSSYrg1Pxr"
      },
      "source": [
        "1.1.1 정수형(int)\n"
      ]
    },
    {
      "cell_type": "code",
      "metadata": {
        "id": "uNA2ns7j1MO7"
      },
      "source": [
        "a = 1\n",
        "b = 0\n",
        "c= -1 "
      ],
      "execution_count": null,
      "outputs": []
    },
    {
      "cell_type": "code",
      "metadata": {
        "colab": {
          "base_uri": "https://localhost:8080/"
        },
        "id": "q1IpXPwS1US7",
        "outputId": "b06e0021-f0bd-42d6-e59e-8350ed78a342"
      },
      "source": [
        "print(a, type(a))\n",
        "print(b, type(b))\n",
        "print(c, type(c))"
      ],
      "execution_count": null,
      "outputs": [
        {
          "output_type": "stream",
          "text": [
            "1 <class 'int'>\n",
            "0 <class 'int'>\n",
            "-1 <class 'int'>\n"
          ],
          "name": "stdout"
        }
      ]
    },
    {
      "cell_type": "code",
      "metadata": {
        "colab": {
          "base_uri": "https://localhost:8080/"
        },
        "id": "k9IUak5j1fZ0",
        "outputId": "2e9276a2-1617-48e4-ff0d-65c0ae327a0b"
      },
      "source": [
        "d= a+b \n",
        "print(d)"
      ],
      "execution_count": null,
      "outputs": [
        {
          "output_type": "stream",
          "text": [
            "1\n"
          ],
          "name": "stdout"
        }
      ]
    },
    {
      "cell_type": "markdown",
      "metadata": {
        "id": "f9pJi-XB1rpk"
      },
      "source": [
        "1.1.2 실수형(float)"
      ]
    },
    {
      "cell_type": "code",
      "metadata": {
        "id": "eJiHp2le1mJs"
      },
      "source": [
        "a= 1.2\n",
        "b= 2.4\n",
        "c= 0."
      ],
      "execution_count": null,
      "outputs": []
    },
    {
      "cell_type": "code",
      "metadata": {
        "colab": {
          "base_uri": "https://localhost:8080/"
        },
        "id": "LgQw3pv11yyk",
        "outputId": "a9906ede-7714-4cc7-829f-ed5c7fbae497"
      },
      "source": [
        "#부동소수점 문제 \n",
        "print(a+b)"
      ],
      "execution_count": null,
      "outputs": [
        {
          "output_type": "stream",
          "text": [
            "3.5999999999999996\n"
          ],
          "name": "stdout"
        }
      ]
    },
    {
      "cell_type": "code",
      "metadata": {
        "colab": {
          "base_uri": "https://localhost:8080/"
        },
        "id": "wgm8c0IT13Us",
        "outputId": "8d33338e-5153-41f9-d08d-660c79c64f89"
      },
      "source": [
        "print(a, type(a))\n",
        "print(b, type(b))\n",
        "print(c, type(c))"
      ],
      "execution_count": null,
      "outputs": [
        {
          "output_type": "stream",
          "text": [
            "1.2 <class 'float'>\n",
            "2.4 <class 'float'>\n",
            "0.0 <class 'float'>\n"
          ],
          "name": "stdout"
        }
      ]
    },
    {
      "cell_type": "markdown",
      "metadata": {
        "id": "zpXdj0X62TvU"
      },
      "source": [
        "1.1.3 문자형(str) "
      ]
    },
    {
      "cell_type": "code",
      "metadata": {
        "colab": {
          "base_uri": "https://localhost:8080/"
        },
        "id": "mz5-EB5E2QS7",
        "outputId": "87d02e7f-42ce-4fed-968e-e234aecfc217"
      },
      "source": [
        "#문자형 string\n",
        "a= 'deep '\n",
        "b= 'learning'\n",
        "print(type(a),type(b))"
      ],
      "execution_count": null,
      "outputs": [
        {
          "output_type": "stream",
          "text": [
            "<class 'str'> <class 'str'>\n"
          ],
          "name": "stdout"
        }
      ]
    },
    {
      "cell_type": "code",
      "metadata": {
        "colab": {
          "base_uri": "https://localhost:8080/"
        },
        "id": "04TbN9KJ2lIL",
        "outputId": "61b22c34-630b-4715-ed58-7ed6a118a843"
      },
      "source": [
        "print(a+b)"
      ],
      "execution_count": null,
      "outputs": [
        {
          "output_type": "stream",
          "text": [
            "deep learning\n"
          ],
          "name": "stdout"
        }
      ]
    },
    {
      "cell_type": "markdown",
      "metadata": {
        "id": "GCe3sxSH2r4r"
      },
      "source": [
        "1.1.4 T or F (bool) "
      ]
    },
    {
      "cell_type": "code",
      "metadata": {
        "colab": {
          "base_uri": "https://localhost:8080/"
        },
        "id": "ErjSQGJX2n4D",
        "outputId": "994aca9c-d50b-4c12-c6fc-843cd20176b5"
      },
      "source": [
        "a= True \n",
        "b= False\n",
        "print(type(a), type(b))"
      ],
      "execution_count": null,
      "outputs": [
        {
          "output_type": "stream",
          "text": [
            "<class 'bool'> <class 'bool'>\n"
          ],
          "name": "stdout"
        }
      ]
    },
    {
      "cell_type": "markdown",
      "metadata": {
        "id": "rQnncsw227rU"
      },
      "source": [
        "1.1.5 주의점"
      ]
    },
    {
      "cell_type": "code",
      "metadata": {
        "colab": {
          "base_uri": "https://localhost:8080/"
        },
        "id": "hJ4aUJxh20Er",
        "outputId": "41eef620-1db9-408d-d81e-88809525363b"
      },
      "source": [
        "#숫자형 문자 \n",
        "a= 1\n",
        "b= '1'\n",
        "print(a)\n",
        "print(b)\n",
        "print(type(a), type(b))"
      ],
      "execution_count": null,
      "outputs": [
        {
          "output_type": "stream",
          "text": [
            "1\n",
            "1\n",
            "<class 'int'> <class 'str'>\n"
          ],
          "name": "stdout"
        }
      ]
    },
    {
      "cell_type": "code",
      "metadata": {
        "colab": {
          "base_uri": "https://localhost:8080/"
        },
        "id": "dTadk1EP3Dyk",
        "outputId": "f8180bfe-a79a-4134-82cf-80b7eaefeb1d"
      },
      "source": [
        "c= int(b)\n",
        "print(c, type(c))"
      ],
      "execution_count": null,
      "outputs": [
        {
          "output_type": "stream",
          "text": [
            "1 <class 'int'>\n"
          ],
          "name": "stdout"
        }
      ]
    },
    {
      "cell_type": "markdown",
      "metadata": {
        "id": "jpyV-Cu03vKs"
      },
      "source": [
        "1.1.6 리스트"
      ]
    },
    {
      "cell_type": "code",
      "metadata": {
        "colab": {
          "base_uri": "https://localhost:8080/"
        },
        "id": "PkbBs2eq3PTz",
        "outputId": "b14860b9-00e8-4279-f9ea-200534c9b0bf"
      },
      "source": [
        "list1 = [1,2,3,4]\n",
        "print(list1, type(list1))"
      ],
      "execution_count": null,
      "outputs": [
        {
          "output_type": "stream",
          "text": [
            "[1, 2, 3, 4] <class 'list'>\n"
          ],
          "name": "stdout"
        }
      ]
    },
    {
      "cell_type": "code",
      "metadata": {
        "colab": {
          "base_uri": "https://localhost:8080/"
        },
        "id": "z_TEI5z93SPT",
        "outputId": "2b1791cf-219b-4e11-c557-e16ff518cb42"
      },
      "source": [
        "print(list1[0])\n",
        "print(list1[2])\n",
        "print(list1[:3])"
      ],
      "execution_count": null,
      "outputs": [
        {
          "output_type": "stream",
          "text": [
            "1\n",
            "3\n",
            "[1, 2, 3]\n"
          ],
          "name": "stdout"
        }
      ]
    },
    {
      "cell_type": "markdown",
      "metadata": {
        "id": "OxRtXlbN4DI9"
      },
      "source": [
        "1.1.7 튜플"
      ]
    },
    {
      "cell_type": "code",
      "metadata": {
        "colab": {
          "base_uri": "https://localhost:8080/"
        },
        "id": "xskC3txY39q9",
        "outputId": "ca669b57-5a89-4a46-9aeb-1169ac52efa5"
      },
      "source": [
        "a= (1,2)\n",
        "print(a, type(a))\n",
        "print(a[0])\n",
        "print(a[1])"
      ],
      "execution_count": null,
      "outputs": [
        {
          "output_type": "stream",
          "text": [
            "(1, 2) <class 'tuple'>\n",
            "1\n",
            "2\n"
          ],
          "name": "stdout"
        }
      ]
    },
    {
      "cell_type": "code",
      "metadata": {
        "colab": {
          "base_uri": "https://localhost:8080/",
          "height": 190
        },
        "id": "jiC9MEtt4cac",
        "outputId": "5bd1024a-da95-46dd-9514-ce110bcd914f"
      },
      "source": [
        "#튜플은 변경불가\n",
        "a[1]= 100\n",
        "print(a)"
      ],
      "execution_count": null,
      "outputs": [
        {
          "output_type": "error",
          "ename": "TypeError",
          "evalue": "ignored",
          "traceback": [
            "\u001b[0;31m---------------------------------------------------------------------------\u001b[0m",
            "\u001b[0;31mTypeError\u001b[0m                                 Traceback (most recent call last)",
            "\u001b[0;32m<ipython-input-27-8682f08f70f1>\u001b[0m in \u001b[0;36m<module>\u001b[0;34m()\u001b[0m\n\u001b[0;32m----> 1\u001b[0;31m \u001b[0ma\u001b[0m\u001b[0;34m[\u001b[0m\u001b[0;36m1\u001b[0m\u001b[0;34m]\u001b[0m\u001b[0;34m=\u001b[0m \u001b[0;36m100\u001b[0m\u001b[0;34m\u001b[0m\u001b[0;34m\u001b[0m\u001b[0m\n\u001b[0m\u001b[1;32m      2\u001b[0m \u001b[0mprint\u001b[0m\u001b[0;34m(\u001b[0m\u001b[0ma\u001b[0m\u001b[0;34m)\u001b[0m\u001b[0;34m\u001b[0m\u001b[0;34m\u001b[0m\u001b[0m\n",
            "\u001b[0;31mTypeError\u001b[0m: 'tuple' object does not support item assignment"
          ]
        }
      ]
    },
    {
      "cell_type": "code",
      "metadata": {
        "colab": {
          "base_uri": "https://localhost:8080/"
        },
        "id": "P-fa1f_E4Lxb",
        "outputId": "df0ae489-d887-4037-b921-59b48e342c33"
      },
      "source": [
        "list1[1]=100\n",
        "print(list1)"
      ],
      "execution_count": null,
      "outputs": [
        {
          "output_type": "stream",
          "text": [
            "[1, 100, 3, 4]\n"
          ],
          "name": "stdout"
        }
      ]
    },
    {
      "cell_type": "markdown",
      "metadata": {
        "id": "SD0q_xaA4lwD"
      },
      "source": [
        "1.1.8 딕셔너리"
      ]
    },
    {
      "cell_type": "code",
      "metadata": {
        "colab": {
          "base_uri": "https://localhost:8080/"
        },
        "id": "gHdAdc8U4S0c",
        "outputId": "55a1fcf9-f8b3-4a6e-b7ca-73e16e262c90"
      },
      "source": [
        "a= {'class':['deep learning', 'machine learning'], 'student': [40,20] }\n",
        "print(a)"
      ],
      "execution_count": null,
      "outputs": [
        {
          "output_type": "stream",
          "text": [
            "{'class': ['deep learning', 'machine learning'], 'student': [40, 20]}\n"
          ],
          "name": "stdout"
        }
      ]
    },
    {
      "cell_type": "code",
      "metadata": {
        "colab": {
          "base_uri": "https://localhost:8080/"
        },
        "id": "EPzZHCzK40Yz",
        "outputId": "d4ef918c-f77e-438d-8e36-3db882da7d9b"
      },
      "source": [
        "print(type(a))"
      ],
      "execution_count": null,
      "outputs": [
        {
          "output_type": "stream",
          "text": [
            "<class 'dict'>\n"
          ],
          "name": "stdout"
        }
      ]
    },
    {
      "cell_type": "code",
      "metadata": {
        "colab": {
          "base_uri": "https://localhost:8080/"
        },
        "id": "AfzIuxQx44qU",
        "outputId": "dd76f784-73dd-4cd3-8438-2cfd268572f5"
      },
      "source": [
        "print(a['class'])"
      ],
      "execution_count": null,
      "outputs": [
        {
          "output_type": "stream",
          "text": [
            "['deep learning', 'machine learning']\n"
          ],
          "name": "stdout"
        }
      ]
    },
    {
      "cell_type": "code",
      "metadata": {
        "colab": {
          "base_uri": "https://localhost:8080/"
        },
        "id": "SikEZh0y6NzB",
        "outputId": "4bd8929e-5301-4519-9d94-e0c97cac261b"
      },
      "source": [
        "print(a['student'])"
      ],
      "execution_count": null,
      "outputs": [
        {
          "output_type": "stream",
          "text": [
            "[40, 20]\n"
          ],
          "name": "stdout"
        }
      ]
    },
    {
      "cell_type": "code",
      "metadata": {
        "colab": {
          "base_uri": "https://localhost:8080/"
        },
        "id": "UFct6rlG6Q0Y",
        "outputId": "ff9f184a-9007-4b5f-a5a5-72ec7361405c"
      },
      "source": [
        "print(a['student'][0])"
      ],
      "execution_count": null,
      "outputs": [
        {
          "output_type": "stream",
          "text": [
            "40\n"
          ],
          "name": "stdout"
        }
      ]
    },
    {
      "cell_type": "markdown",
      "metadata": {
        "id": "ilW16kKd6jLL"
      },
      "source": [
        "1.1.9 Numpy 배열"
      ]
    },
    {
      "cell_type": "code",
      "metadata": {
        "colab": {
          "base_uri": "https://localhost:8080/"
        },
        "id": "jqFSIftc6gs5",
        "outputId": "650775b3-4374-4989-8980-b82d64159ce2"
      },
      "source": [
        "import numpy as np\n",
        "\n",
        "arr= np.array([1,2,3,4])\n",
        "print(arr,type(arr))"
      ],
      "execution_count": null,
      "outputs": [
        {
          "output_type": "stream",
          "text": [
            "[1 2 3 4] <class 'numpy.ndarray'>\n"
          ],
          "name": "stdout"
        }
      ]
    },
    {
      "cell_type": "markdown",
      "metadata": {
        "id": "kS-Ourkk7H2B"
      },
      "source": [
        "**1.2 라이브러리**"
      ]
    },
    {
      "cell_type": "code",
      "metadata": {
        "colab": {
          "base_uri": "https://localhost:8080/"
        },
        "id": "-Awkf4Tr6vE5",
        "outputId": "c2a12e0f-a30d-4020-82f4-b8c0308cbf82"
      },
      "source": [
        "import numpy as np \n",
        "arr = np.array([1,2,3,4])\n",
        "print(arr)"
      ],
      "execution_count": null,
      "outputs": [
        {
          "output_type": "stream",
          "text": [
            "[1 2 3 4]\n"
          ],
          "name": "stdout"
        }
      ]
    },
    {
      "cell_type": "code",
      "metadata": {
        "id": "lsDFxsWa7Ygp"
      },
      "source": [
        "a= np.array([1,2,3,4])\n",
        "b= np.ones(5)\n",
        "c= np.zeros((5,2))"
      ],
      "execution_count": null,
      "outputs": []
    },
    {
      "cell_type": "code",
      "metadata": {
        "colab": {
          "base_uri": "https://localhost:8080/"
        },
        "id": "i2Ty19ez77Ca",
        "outputId": "731f4916-96ca-4fe3-a75b-30b5e1c2ae6b"
      },
      "source": [
        "print(a)\n",
        "print(b)\n",
        "print(c)"
      ],
      "execution_count": null,
      "outputs": [
        {
          "output_type": "stream",
          "text": [
            "[1 2 3 4]\n",
            "[1. 1. 1. 1. 1.]\n",
            "[[0. 0.]\n",
            " [0. 0.]\n",
            " [0. 0.]\n",
            " [0. 0.]\n",
            " [0. 0.]]\n"
          ],
          "name": "stdout"
        }
      ]
    },
    {
      "cell_type": "code",
      "metadata": {
        "id": "0MhZdtY179IA"
      },
      "source": [
        ""
      ],
      "execution_count": null,
      "outputs": []
    }
  ]
}