{
  "nbformat": 4,
  "nbformat_minor": 0,
  "metadata": {
    "colab": {
      "name": "Module.ipynb",
      "provenance": [],
      "collapsed_sections": [],
      "authorship_tag": "ABX9TyOFZgYlex/mQa9dCTdemjqW",
      "include_colab_link": true
    },
    "kernelspec": {
      "name": "python3",
      "display_name": "Python 3"
    },
    "language_info": {
      "name": "python"
    }
  },
  "cells": [
    {
      "cell_type": "markdown",
      "metadata": {
        "id": "view-in-github",
        "colab_type": "text"
      },
      "source": [
        "<a href=\"https://colab.research.google.com/github/dohyeonYoon/python-review/blob/main/Module.ipynb\" target=\"_parent\"><img src=\"https://colab.research.google.com/assets/colab-badge.svg\" alt=\"Open In Colab\"/></a>"
      ]
    },
    {
      "cell_type": "markdown",
      "metadata": {
        "id": "7iHJnMIuLWHm"
      },
      "source": [
        "# 4강. 모듈"
      ]
    },
    {
      "cell_type": "code",
      "metadata": {
        "id": "iuxkWuWyN-g0"
      },
      "source": [
        "코드가 복잡해지는것을 방지하기 위해 기능에 따라 파일을 별도로 만들어 전체적인 코드를 완성시키는것을 \n",
        "모듈이라고 한다."
      ],
      "execution_count": null,
      "outputs": []
    },
    {
      "cell_type": "code",
      "metadata": {
        "colab": {
          "base_uri": "https://localhost:8080/"
        },
        "id": "4TPCKcCCNVl2",
        "outputId": "8764efd3-f880-495a-9961-9252650083d5"
      },
      "source": [
        "from google.colab import drive\n",
        "drive.mount('/content/gdrive')"
      ],
      "execution_count": null,
      "outputs": [
        {
          "output_type": "stream",
          "text": [
            "Mounted at /content/gdrive\n"
          ],
          "name": "stdout"
        }
      ]
    },
    {
      "cell_type": "code",
      "metadata": {
        "colab": {
          "base_uri": "https://localhost:8080/"
        },
        "id": "5BWWcvlcNrEd",
        "outputId": "8f984431-a7d1-4dd4-8e95-2ac9917a8e7e"
      },
      "source": [
        "cd /content/gdrive/MyDrive/python 복습"
      ],
      "execution_count": null,
      "outputs": [
        {
          "output_type": "stream",
          "text": [
            "/content/gdrive/MyDrive/python 복습\n"
          ],
          "name": "stdout"
        }
      ]
    },
    {
      "cell_type": "code",
      "metadata": {
        "id": "kcuZtEBXLTNu"
      },
      "source": [
        "import numpy as np \n",
        "import models #동일 디렉토리 내에 models.py 파일을 불러온다 \n"
      ],
      "execution_count": null,
      "outputs": []
    },
    {
      "cell_type": "code",
      "metadata": {
        "colab": {
          "base_uri": "https://localhost:8080/"
        },
        "id": "u8-XIyrVNS_3",
        "outputId": "8d13e4b4-0dff-4612-b0c8-caf58190953b"
      },
      "source": [
        "print(models.gugudan(7))"
      ],
      "execution_count": null,
      "outputs": [
        {
          "output_type": "stream",
          "text": [
            "7 x 1 = 7입니다.\n",
            "7 x 2 = 14입니다.\n",
            "7 x 3 = 21입니다.\n",
            "7 x 4 = 28입니다.\n",
            "7 x 5 = 35입니다.\n",
            "7 x 6 = 42입니다.\n",
            "7 x 7 = 49입니다.\n",
            "7 x 8 = 56입니다.\n",
            "7 x 9 = 63입니다.\n",
            "None\n"
          ],
          "name": "stdout"
        }
      ]
    }
  ]
}